{
 "cells": [
  {
   "cell_type": "markdown",
   "id": "4e240358",
   "metadata": {},
   "source": [
    "### Етап 3. Тестування та дослідження ефективності"
   ]
  },
  {
   "cell_type": "code",
   "execution_count": 29,
   "id": "553b7f41",
   "metadata": {},
   "outputs": [],
   "source": [
    "import os\n",
    "import time\n",
    "from algorithms.LZ77 import LZ77\n",
    "from algorithms.LZ78 import LZ78Compressor\n",
    "from algorithms.LZW import LZWCompressor\n",
    "from algorithms.RLE import RLECompressor\n",
    "from algorithms.huffman_coding import HuffmanTree"
   ]
  },
  {
   "cell_type": "markdown",
   "id": "986647a2",
   "metadata": {
    "vscode": {
     "languageId": "plaintext"
    }
   },
   "source": [
    "### Формат - txt, семпл - \"Місто\" В. Підмогильний"
   ]
  },
  {
   "cell_type": "markdown",
   "id": "291e8f94",
   "metadata": {},
   "source": [
    "початковий розмір файлу"
   ]
  },
  {
   "cell_type": "code",
   "execution_count": 30,
   "id": "513d0501",
   "metadata": {},
   "outputs": [
    {
     "name": "stdout",
     "output_type": "stream",
     "text": [
      "Початковий розмір файлу: 911282 KB\n"
     ]
    }
   ],
   "source": [
    "misto_size = os.stat('./test/pidmohylnyy-valerian-petrovych-misto76.txt').st_size\n",
    "print(f'Початковий розмір файлу: {misto_size} KB')"
   ]
  },
  {
   "cell_type": "markdown",
   "id": "09c00aca",
   "metadata": {},
   "source": [
    "Після стиснення LZ77"
   ]
  },
  {
   "cell_type": "code",
   "execution_count": 31,
   "id": "79fbcd0d",
   "metadata": {},
   "outputs": [
    {
     "name": "stdout",
     "output_type": "stream",
     "text": [
      "Розмір після стиснення LZ77: 480906 KB\n",
      "Час стиснення LZ77: 0.87 секунд\n"
     ]
    }
   ],
   "source": [
    "lz77 = LZ77()\n",
    "\n",
    "start_lz77_compression = time.time()\n",
    "lz77_misto = lz77.compress_file('./test/pidmohylnyy-valerian-petrovych-misto76.txt')\n",
    "end_lz77_compression = time.time()\n",
    "\n",
    "lz77_misto_size = os.stat('compressed_lz77.bin').st_size\n",
    "print(f'Розмір після стиснення LZ77: {lz77_misto_size} KB')\n",
    "print(f'Час стиснення LZ77: {end_lz77_compression - start_lz77_compression:.2f} секунд')"
   ]
  },
  {
   "cell_type": "markdown",
   "id": "26e5c830",
   "metadata": {},
   "source": [
    "Після стиснення LZ78"
   ]
  },
  {
   "cell_type": "code",
   "execution_count": 32,
   "id": "d2427aff",
   "metadata": {},
   "outputs": [
    {
     "name": "stdout",
     "output_type": "stream",
     "text": [
      "Розмір після стиснення LZ78: 699485 KB\n",
      "Час стиснення LZ78: 0.13 секунд\n"
     ]
    }
   ],
   "source": [
    "lz78 = LZ78Compressor()\n",
    "\n",
    "start_lz78_compression = time.time()\n",
    "lz78_misto = lz78.compress_file('./test/pidmohylnyy-valerian-petrovych-misto76.txt')\n",
    "end_lz78_compression = time.time()\n",
    "\n",
    "\n",
    "lz78_misto_size = os.stat('compressed_lz78.bin').st_size\n",
    "print(f'Розмір після стиснення LZ78: {lz78_misto_size} KB')\n",
    "print(f'Час стиснення LZ78: {end_lz78_compression - start_lz78_compression:.2f} секунд')"
   ]
  },
  {
   "cell_type": "markdown",
   "id": "ee2444fc",
   "metadata": {},
   "source": [
    "Після стиснення LZW"
   ]
  },
  {
   "cell_type": "code",
   "execution_count": 33,
   "id": "3f69b5f8",
   "metadata": {},
   "outputs": [
    {
     "name": "stdout",
     "output_type": "stream",
     "text": [
      "Розмір після стиснення LZW: 535340 KB\n",
      "Час стиснення LZW: 0.16 секунд\n"
     ]
    }
   ],
   "source": [
    "lzw = LZWCompressor()\n",
    "\n",
    "start_lzw_compression = time.time()\n",
    "lzw_misto = lzw.compress_file('./test/pidmohylnyy-valerian-petrovych-misto76.txt')\n",
    "end_lzw_compression = time.time()\n",
    "\n",
    "lzw_misto_size = os.stat('compressed_lzw.bin').st_size\n",
    "print(f'Розмір після стиснення LZW: {lzw_misto_size} KB')\n",
    "print(f'Час стиснення LZW: {end_lzw_compression - start_lzw_compression:.2f} секунд')"
   ]
  },
  {
   "cell_type": "markdown",
   "id": "8cfec80f",
   "metadata": {},
   "source": [
    "Після стиснення алгоритмом Гаффмана"
   ]
  },
  {
   "cell_type": "code",
   "execution_count": 34,
   "id": "6fa83134",
   "metadata": {},
   "outputs": [
    {
     "name": "stdout",
     "output_type": "stream",
     "text": [
      "Розмір після стиснення алгоритмом Гаффмана: 468496 KB\n",
      "Час стиснення алгоритмом Гаффмана: 0.08 секунд\n"
     ]
    }
   ],
   "source": [
    "huffman = HuffmanTree()\n",
    "\n",
    "start_huffman_compression = time.time()\n",
    "huffman_misto = huffman.compress_file('./test/pidmohylnyy-valerian-petrovych-misto76.txt')\n",
    "end_huffman_compression = time.time()\n",
    "\n",
    "huffman_misto_size = os.stat('compressed_huffman.bin').st_size\n",
    "print(f'Розмір після стиснення алгоритмом Гаффмана: {huffman_misto_size} KB')\n",
    "print(f'Час стиснення алгоритмом Гаффмана: {end_huffman_compression - start_huffman_compression:.2f} секунд')"
   ]
  },
  {
   "cell_type": "markdown",
   "id": "8c2cb1c6",
   "metadata": {},
   "source": [
    "Приклад стиснення RLE"
   ]
  },
  {
   "cell_type": "code",
   "execution_count": 35,
   "id": "70b52359",
   "metadata": {},
   "outputs": [
    {
     "name": "stdout",
     "output_type": "stream",
     "text": [
      "Розмір після стиснення алгоритмом RLE: 4553365 KB\n",
      "Час стиснення алгоритмом Гаффмана: 0.18 секунд\n"
     ]
    }
   ],
   "source": [
    "rle = RLECompressor()\n",
    "\n",
    "start_rle_compression = time.time()\n",
    "rle_misto = rle.compress_file('./test/pidmohylnyy-valerian-petrovych-misto76.txt')\n",
    "end_rle_compression = time.time()\n",
    "\n",
    "rle_misto_size = os.stat('compressed_rle.bin').st_size\n",
    "print(f'Розмір після стиснення алгоритмом RLE: {rle_misto_size} KB')\n",
    "print(f'Час стиснення алгоритмом Гаффмана: {end_rle_compression - start_rle_compression:.2f} секунд')"
   ]
  },
  {
   "cell_type": "markdown",
   "id": "599a75df",
   "metadata": {},
   "source": [
    "### Формат - json, семпл - large-json.file, 11352 рядків"
   ]
  },
  {
   "cell_type": "markdown",
   "id": "a71575e2",
   "metadata": {},
   "source": [
    "початковий розмір файлу"
   ]
  },
  {
   "cell_type": "code",
   "execution_count": 37,
   "id": "5d279590",
   "metadata": {},
   "outputs": [
    {
     "name": "stdout",
     "output_type": "stream",
     "text": [
      "Початковий розмір файлу: 911282 KB\n"
     ]
    }
   ],
   "source": [
    "json_size = os.stat('./test/large-file.json').st_size\n",
    "print(f'Початковий розмір файлу: {misto_size} KB')"
   ]
  },
  {
   "cell_type": "markdown",
   "id": "ceb0fead",
   "metadata": {},
   "source": [
    "Після стиснення LZ77"
   ]
  },
  {
   "cell_type": "code",
   "execution_count": 38,
   "id": "cf60a2a9",
   "metadata": {},
   "outputs": [
    {
     "name": "stdout",
     "output_type": "stream",
     "text": [
      "Розмір після стиснення LZ77: 10298264 KB\n",
      "Час стиснення LZ77: 12.01 секунд\n"
     ]
    }
   ],
   "source": [
    "lz77 = LZ77()\n",
    "\n",
    "start_lz77_compression = time.time()\n",
    "lz77_json = lz77.compress_file('./test/large-file.json')\n",
    "end_lz77_compression = time.time()\n",
    "\n",
    "lz77_json_size = os.stat('compressed_lz77.bin').st_size\n",
    "print(f'Розмір після стиснення LZ77: {lz77_json_size} KB')\n",
    "print(f'Час стиснення LZ77: {end_lz77_compression - start_lz77_compression:.2f} секунд')"
   ]
  },
  {
   "cell_type": "markdown",
   "id": "e4cdc856",
   "metadata": {},
   "source": [
    "Після стиснення LZ78"
   ]
  },
  {
   "cell_type": "code",
   "execution_count": 39,
   "id": "0d51e129",
   "metadata": {},
   "outputs": [
    {
     "name": "stdout",
     "output_type": "stream",
     "text": [
      "Розмір після стиснення LZ78: 10461282 KB\n",
      "Час стиснення LZ78: 5.41 секунд\n"
     ]
    }
   ],
   "source": [
    "lz78 = LZ78Compressor()\n",
    "\n",
    "start_lz78_compression = time.time()\n",
    "lz78_json = lz78.compress_file('./test/large-file.json')\n",
    "end_lz78_compression = time.time()\n",
    "\n",
    "\n",
    "lz78_json_size = os.stat('compressed_lz78.bin').st_size\n",
    "print(f'Розмір після стиснення LZ78: {lz78_json_size} KB')\n",
    "print(f'Час стиснення LZ78: {end_lz78_compression - start_lz78_compression:.2f} секунд')"
   ]
  },
  {
   "cell_type": "markdown",
   "id": "b36d4df3",
   "metadata": {},
   "source": [
    "Після стиснення LZW"
   ]
  },
  {
   "cell_type": "code",
   "execution_count": 40,
   "id": "cc8145f7",
   "metadata": {},
   "outputs": [
    {
     "name": "stdout",
     "output_type": "stream",
     "text": [
      "Розмір після стиснення LZW: 7906656 KB\n",
      "Час стиснення LZW: 5.33 секунд\n"
     ]
    }
   ],
   "source": [
    "lzw = LZWCompressor()\n",
    "\n",
    "start_lzw_compression = time.time()\n",
    "lzw_json = lzw.compress_file('./test/large-file.json')\n",
    "end_lzw_compression = time.time()\n",
    "\n",
    "lzw_json_size = os.stat('compressed_lzw.bin').st_size\n",
    "print(f'Розмір після стиснення LZW: {lzw_json_size} KB')\n",
    "print(f'Час стиснення LZW: {end_lzw_compression - start_lzw_compression:.2f} секунд')"
   ]
  },
  {
   "cell_type": "markdown",
   "id": "802997b6",
   "metadata": {},
   "source": [
    "Після стиснення алгоритмом Гаффмана"
   ]
  },
  {
   "cell_type": "code",
   "execution_count": 41,
   "id": "2c4b1ad4",
   "metadata": {},
   "outputs": [
    {
     "name": "stdout",
     "output_type": "stream",
     "text": [
      "Розмір після стиснення алгоритмом Гаффмана: 17085078 KB\n",
      "Час стиснення алгоритмом Гаффмана: 2.23 секунд\n"
     ]
    }
   ],
   "source": [
    "huffman = HuffmanTree()\n",
    "\n",
    "start_huffman_compression = time.time()\n",
    "huffman_json = huffman.compress_file('./test/large-file.json')\n",
    "end_huffman_compression = time.time()\n",
    "\n",
    "huffman_json_size = os.stat('compressed_huffman.bin').st_size\n",
    "print(f'Розмір після стиснення алгоритмом Гаффмана: {huffman_json_size} KB')\n",
    "print(f'Час стиснення алгоритмом Гаффмана: {end_huffman_compression - start_huffman_compression:.2f} секунд')"
   ]
  },
  {
   "cell_type": "markdown",
   "id": "1eaae07a",
   "metadata": {},
   "source": [
    "Після стиснення RLE"
   ]
  },
  {
   "cell_type": "code",
   "execution_count": 42,
   "id": "2bad4284",
   "metadata": {},
   "outputs": [
    {
     "name": "stdout",
     "output_type": "stream",
     "text": [
      "Розмір після стиснення алгоритмом RLE: 125559175 KB\n",
      "Час стиснення алгоритмом Гаффмана: 4.90 секунд\n"
     ]
    }
   ],
   "source": [
    "rle = RLECompressor()\n",
    "\n",
    "start_rle_compression = time.time()\n",
    "rle_json = rle.compress_file('./test/large-file.json')\n",
    "end_rle_compression = time.time()\n",
    "\n",
    "rle_json_size = os.stat('compressed_rle.bin').st_size\n",
    "print(f'Розмір після стиснення алгоритмом RLE: {rle_json_size} KB')\n",
    "print(f'Час стиснення алгоритмом Гаффмана: {end_rle_compression - start_rle_compression:.2f} секунд')"
   ]
  }
 ],
 "metadata": {
  "kernelspec": {
   "display_name": ".venv",
   "language": "python",
   "name": "python3"
  },
  "language_info": {
   "codemirror_mode": {
    "name": "ipython",
    "version": 3
   },
   "file_extension": ".py",
   "mimetype": "text/x-python",
   "name": "python",
   "nbconvert_exporter": "python",
   "pygments_lexer": "ipython3",
   "version": "3.13.2"
  }
 },
 "nbformat": 4,
 "nbformat_minor": 5
}
