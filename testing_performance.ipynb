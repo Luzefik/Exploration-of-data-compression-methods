{
 "cells": [
  {
   "cell_type": "markdown",
   "id": "4e240358",
   "metadata": {},
   "source": [
    "### Етап 3. Тестування та дослідження ефективності"
   ]
  },
  {
   "cell_type": "code",
   "execution_count": null,
   "id": "986647a2",
   "metadata": {
    "vscode": {
     "languageId": "plaintext"
    }
   },
   "outputs": [],
   "source": []
  }
 ],
 "metadata": {
  "language_info": {
   "name": "python"
  }
 },
 "nbformat": 4,
 "nbformat_minor": 5
}
