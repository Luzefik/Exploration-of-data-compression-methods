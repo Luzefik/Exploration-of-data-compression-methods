{
 "cells": [
  {
   "cell_type": "markdown",
   "id": "4e240358",
   "metadata": {},
   "source": [
    "### Етап 3. Тестування та дослідження ефективності"
   ]
  },
  {
   "cell_type": "code",
   "execution_count": 40,
   "id": "553b7f41",
   "metadata": {},
   "outputs": [],
   "source": [
    "import os\n",
    "import time\n",
    "from algorithms.LZ77 import LZ77\n",
    "from algorithms.LZ78 import LZ78Compressor\n",
    "from algorithms.LZW import LZWCompressor\n",
    "from algorithms.RLE import RLECompressor\n",
    "from algorithms.huffman_coding import HuffmanTree"
   ]
  },
  {
   "cell_type": "markdown",
   "id": "986647a2",
   "metadata": {
    "vscode": {
     "languageId": "plaintext"
    }
   },
   "source": [
    "### Формат - txt, семпл - \"Місто\" В. Підмогильний"
   ]
  },
  {
   "cell_type": "markdown",
   "id": "291e8f94",
   "metadata": {},
   "source": [
    "початковий розмір файлу"
   ]
  },
  {
   "cell_type": "code",
   "execution_count": 41,
   "id": "513d0501",
   "metadata": {},
   "outputs": [
    {
     "name": "stdout",
     "output_type": "stream",
     "text": [
      "Початковий розмір файлу: 911282 KB\n"
     ]
    }
   ],
   "source": [
    "misto_size = os.stat('./test/pidmohylnyy-valerian-petrovych-misto76.txt').st_size\n",
    "print(f'Початковий розмір файлу: {misto_size} KB')"
   ]
  },
  {
   "cell_type": "markdown",
   "id": "09c00aca",
   "metadata": {},
   "source": [
    "Після стиснення LZ77"
   ]
  },
  {
   "cell_type": "code",
   "execution_count": 42,
   "id": "79fbcd0d",
   "metadata": {},
   "outputs": [
    {
     "name": "stdout",
     "output_type": "stream",
     "text": [
      "Розмір після стиснення LZ77: 480906 KB\n",
      "Час стиснення LZ77: 0.90 секунд\n"
     ]
    }
   ],
   "source": [
    "lz77 = LZ77()\n",
    "\n",
    "start_lz77_compression = time.time()\n",
    "lz77_misto = lz77.compress_file('./test/pidmohylnyy-valerian-petrovych-misto76.txt')\n",
    "end_lz77_compression = time.time()\n",
    "\n",
    "lz77_misto_size = os.stat('compressed_lz77.bin').st_size\n",
    "print(f'Розмір після стиснення LZ77: {lz77_misto_size} KB')\n",
    "print(f'Час стиснення LZ77: {end_lz77_compression - start_lz77_compression:.2f} секунд')"
   ]
  },
  {
   "cell_type": "markdown",
   "id": "26e5c830",
   "metadata": {},
   "source": [
    "Після стиснення LZ78"
   ]
  },
  {
   "cell_type": "code",
   "execution_count": 43,
   "id": "d2427aff",
   "metadata": {},
   "outputs": [
    {
     "name": "stdout",
     "output_type": "stream",
     "text": [
      "Розмір після стиснення LZ78: 699485 KB\n",
      "Час стиснення LZ78: 0.13 секунд\n"
     ]
    }
   ],
   "source": [
    "lz78 = LZ78Compressor()\n",
    "\n",
    "start_lz78_compression = time.time()\n",
    "lz78_misto = lz78.compress_file('./test/pidmohylnyy-valerian-petrovych-misto76.txt')\n",
    "end_lz78_compression = time.time()\n",
    "\n",
    "\n",
    "lz78_misto_size = os.stat('compressed_lz78.bin').st_size\n",
    "print(f'Розмір після стиснення LZ78: {lz78_misto_size} KB')\n",
    "print(f'Час стиснення LZ78: {end_lz78_compression - start_lz78_compression:.2f} секунд')"
   ]
  },
  {
   "cell_type": "markdown",
   "id": "ee2444fc",
   "metadata": {},
   "source": [
    "Після стиснення LZW"
   ]
  },
  {
   "cell_type": "code",
   "execution_count": 44,
   "id": "3f69b5f8",
   "metadata": {},
   "outputs": [
    {
     "name": "stdout",
     "output_type": "stream",
     "text": [
      "Розмір після стиснення LZW: 535340 KB\n",
      "Час стиснення LZW: 0.12 секунд\n",
      "Час декомпресування LZW: 0.03 секунд\n"
     ]
    }
   ],
   "source": [
    "lzw = LZWCompressor()\n",
    "\n",
    "start_lzw_compression = time.time()\n",
    "lzw_misto = lzw.compress_file('./test/pidmohylnyy-valerian-petrovych-misto76.txt')\n",
    "end_lzw_compression = time.time()\n",
    "\n",
    "start_lzw_decompression = time.time()\n",
    "lzw.decompress_file('compressed_lzw.bin')\n",
    "end_lzw_decompression = time.time()\n",
    "\n",
    "lzw_misto_size = os.stat('compressed_lzw.bin').st_size\n",
    "print(f'Розмір після стиснення LZW: {lzw_misto_size} KB')\n",
    "print(f'Час стиснення LZW: {end_lzw_compression - start_lzw_compression:.2f} секунд')\n",
    "print(f'Час декомпресування LZW: {end_lzw_decompression - start_lzw_decompression:.2f} секунд')"
   ]
  },
  {
   "cell_type": "markdown",
   "id": "8cfec80f",
   "metadata": {},
   "source": [
    "Після стиснення алгоритмом Гаффмана"
   ]
  },
  {
   "cell_type": "code",
   "execution_count": 45,
   "id": "6fa83134",
   "metadata": {},
   "outputs": [
    {
     "name": "stdout",
     "output_type": "stream",
     "text": [
      "Розмір після стиснення алгоритмом Гаффмана: 468496 KB\n",
      "Час стиснення алгоритмом Гаффмана: 0.09 секунд\n",
      "Час декомпресування алгоритмом Гаффмана: 0.32 секунд\n"
     ]
    }
   ],
   "source": [
    "huffman = HuffmanTree()\n",
    "\n",
    "start_huffman_compression = time.time()\n",
    "huffman_misto = huffman.compress_file('./test/pidmohylnyy-valerian-petrovych-misto76.txt')\n",
    "end_huffman_compression = time.time()\n",
    "\n",
    "start_huffman_decompression = time.time()\n",
    "huffman.decompress_file('compressed_huffman.bin')\n",
    "end_huffman_decompression = time.time()\n",
    "\n",
    "huffman_misto_size = os.stat('compressed_huffman.bin').st_size\n",
    "print(f'Розмір після стиснення алгоритмом Гаффмана: {huffman_misto_size} KB')\n",
    "print(f'Час стиснення алгоритмом Гаффмана: {end_huffman_compression - start_huffman_compression:.2f} секунд')\n",
    "print(f'Час декомпресування алгоритмом Гаффмана: {end_huffman_decompression - start_huffman_decompression:.2f} секунд')"
   ]
  },
  {
   "cell_type": "markdown",
   "id": "8c2cb1c6",
   "metadata": {},
   "source": [
    "Приклад стиснення RLE"
   ]
  },
  {
   "cell_type": "code",
   "execution_count": 46,
   "id": "70b52359",
   "metadata": {},
   "outputs": [
    {
     "name": "stdout",
     "output_type": "stream",
     "text": [
      "Розмір після стиснення алгоритмом RLE: 4553365 KB\n",
      "Час стиснення алгоритмом RLE: 0.14 секунд\n"
     ]
    }
   ],
   "source": [
    "rle = RLECompressor()\n",
    "\n",
    "start_rle_compression = time.time()\n",
    "rle_misto = rle.compress_file('./test/pidmohylnyy-valerian-petrovych-misto76.txt')\n",
    "end_rle_compression = time.time()\n",
    "\n",
    "rle_misto_size = os.stat('compressed_rle.bin').st_size\n",
    "print(f'Розмір після стиснення алгоритмом RLE: {rle_misto_size} KB')\n",
    "print(f'Час стиснення алгоритмом RLE: {end_rle_compression - start_rle_compression:.2f} секунд')"
   ]
  },
  {
   "cell_type": "markdown",
   "id": "9daa89ca",
   "metadata": {},
   "source": [
    "### Формат - txt, семпл - \"Holy Bible\""
   ]
  },
  {
   "cell_type": "markdown",
   "id": "f701a8a9",
   "metadata": {},
   "source": [
    "початковий розмір файлу"
   ]
  },
  {
   "cell_type": "code",
   "execution_count": 47,
   "id": "748a6de9",
   "metadata": {},
   "outputs": [
    {
     "name": "stdout",
     "output_type": "stream",
     "text": [
      "Початковий розмір файлу: 5705523 KB\n"
     ]
    }
   ],
   "source": [
    "bible_size = os.stat('./test/CSB_Pew_Bible_2nd_Printing.txt').st_size\n",
    "print(f'Початковий розмір файлу: {bible_size} KB')"
   ]
  },
  {
   "cell_type": "markdown",
   "id": "163caa86",
   "metadata": {},
   "source": [
    "Після стиснення LZ77"
   ]
  },
  {
   "cell_type": "code",
   "execution_count": 48,
   "id": "9b6c9c88",
   "metadata": {},
   "outputs": [
    {
     "name": "stdout",
     "output_type": "stream",
     "text": [
      "Розмір після стиснення LZ77: 3215305 KB\n",
      "Час стиснення LZ77: 5.10 секунд\n"
     ]
    }
   ],
   "source": [
    "lz77 = LZ77()\n",
    "\n",
    "start_lz77_compression = time.time()\n",
    "lz77_bible = lz77.compress_file('./test/CSB_Pew_Bible_2nd_Printing.txt')\n",
    "end_lz77_compression = time.time()\n",
    "\n",
    "lz77_bible_size = os.stat('compressed_lz77.bin').st_size\n",
    "print(f'Розмір після стиснення LZ77: {lz77_bible_size} KB')\n",
    "print(f'Час стиснення LZ77: {end_lz77_compression - start_lz77_compression:.2f} секунд')"
   ]
  },
  {
   "cell_type": "markdown",
   "id": "0ec890cd",
   "metadata": {},
   "source": [
    "Після стиснення LZ78"
   ]
  },
  {
   "cell_type": "code",
   "execution_count": 49,
   "id": "82bdaff1",
   "metadata": {},
   "outputs": [
    {
     "name": "stdout",
     "output_type": "stream",
     "text": [
      "Розмір після стиснення LZ78: 4096715 KB\n",
      "Час стиснення LZ78: 1.05 секунд\n"
     ]
    }
   ],
   "source": [
    "lz78 = LZ78Compressor()\n",
    "\n",
    "start_lz78_compression = time.time()\n",
    "lz78_bible = lz78.compress_file('./test/CSB_Pew_Bible_2nd_Printing.txt')\n",
    "end_lz78_compression = time.time()\n",
    "\n",
    "\n",
    "lz78_bible_size = os.stat('compressed_lz78.bin').st_size\n",
    "print(f'Розмір після стиснення LZ78: {lz78_bible_size} KB')\n",
    "print(f'Час стиснення LZ78: {end_lz78_compression - start_lz78_compression:.2f} секунд')"
   ]
  },
  {
   "cell_type": "markdown",
   "id": "89acfa1a",
   "metadata": {},
   "source": [
    "Після стиснення LZW"
   ]
  },
  {
   "cell_type": "code",
   "execution_count": 50,
   "id": "1c8dfc83",
   "metadata": {},
   "outputs": [
    {
     "name": "stdout",
     "output_type": "stream",
     "text": [
      "Розмір після стиснення LZW: 3099452 KB\n",
      "Час стиснення LZW: 1.38 секунд\n",
      "Час декомпресування LZW: 0.27 секунд\n"
     ]
    }
   ],
   "source": [
    "lzw = LZWCompressor()\n",
    "\n",
    "start_lzw_compression = time.time()\n",
    "lzw_bible = lzw.compress_file('./test/CSB_Pew_Bible_2nd_Printing.txt')\n",
    "end_lzw_compression = time.time()\n",
    "\n",
    "start_lzw_decompression = time.time()\n",
    "lzw.decompress_file('compressed_lzw.bin')\n",
    "end_lzw_decompression = time.time()\n",
    "\n",
    "lzw_bible_size = os.stat('compressed_lzw.bin').st_size\n",
    "print(f'Розмір після стиснення LZW: {lzw_bible_size} KB')\n",
    "print(f'Час стиснення LZW: {end_lzw_compression - start_lzw_compression:.2f} секунд')\n",
    "print(f'Час декомпресування LZW: {end_lzw_decompression - start_lzw_decompression:.2f} секунд')"
   ]
  },
  {
   "cell_type": "markdown",
   "id": "88c2122a",
   "metadata": {},
   "source": [
    "Після стиснення алгоритмом Гаффмана"
   ]
  },
  {
   "cell_type": "code",
   "execution_count": 51,
   "id": "c8fd78ae",
   "metadata": {},
   "outputs": [
    {
     "name": "stdout",
     "output_type": "stream",
     "text": [
      "Розмір після стиснення алгоритмом Гаффмана: 3431923 KB\n",
      "Час стиснення алгоритмом Гаффмана: 0.53 секунд\n",
      "Час декомпресування алгоритмом Гаффмана: 1.93 секунд\n"
     ]
    }
   ],
   "source": [
    "huffman = HuffmanTree()\n",
    "\n",
    "start_huffman_compression = time.time()\n",
    "huffman_bible = huffman.compress_file('./test/CSB_Pew_Bible_2nd_Printing.txt')\n",
    "end_huffman_compression = time.time()\n",
    "\n",
    "start_huffman_decompression = time.time()\n",
    "huffman.decompress_file('compressed_huffman.bin')\n",
    "end_huffman_decompression = time.time()\n",
    "\n",
    "huffman_bible_size = os.stat('compressed_huffman.bin').st_size\n",
    "print(f'Розмір після стиснення алгоритмом Гаффмана: {huffman_bible_size} KB')\n",
    "print(f'Час стиснення алгоритмом Гаффмана: {end_huffman_compression - start_huffman_compression:.2f} секунд')\n",
    "print(f'Час декомпресування алгоритмом Гаффмана: {end_huffman_decompression - start_huffman_decompression:.2f} секунд')"
   ]
  },
  {
   "cell_type": "markdown",
   "id": "a5c30d34",
   "metadata": {},
   "source": [
    "Після стиснення RLE"
   ]
  },
  {
   "cell_type": "code",
   "execution_count": 52,
   "id": "637176e2",
   "metadata": {},
   "outputs": [
    {
     "name": "stdout",
     "output_type": "stream",
     "text": [
      "Розмір після стиснення алгоритмом RLE: 28089730 KB\n",
      "Час стиснення алгоритмом RLE: 1.14 секунд\n"
     ]
    }
   ],
   "source": [
    "rle = RLECompressor()\n",
    "\n",
    "start_rle_compression = time.time()\n",
    "rle_bible = rle.compress_file('./test/CSB_Pew_Bible_2nd_Printing.txt')\n",
    "end_rle_compression = time.time()\n",
    "\n",
    "rle_bible_size = os.stat('compressed_rle.bin').st_size\n",
    "print(f'Розмір після стиснення алгоритмом RLE: {rle_bible_size} KB')\n",
    "print(f'Час стиснення алгоритмом RLE: {end_rle_compression - start_rle_compression:.2f} секунд')"
   ]
  },
  {
   "cell_type": "markdown",
   "id": "599a75df",
   "metadata": {},
   "source": [
    "### Формат - json, семпл - large-json.file, 11352 рядків"
   ]
  },
  {
   "cell_type": "markdown",
   "id": "a71575e2",
   "metadata": {},
   "source": [
    "початковий розмір файлу"
   ]
  },
  {
   "cell_type": "code",
   "execution_count": 53,
   "id": "5d279590",
   "metadata": {},
   "outputs": [
    {
     "name": "stdout",
     "output_type": "stream",
     "text": [
      "Початковий розмір файлу: 26141343 KB\n"
     ]
    }
   ],
   "source": [
    "json_size = os.stat('./test/large-file.json').st_size\n",
    "print(f'Початковий розмір файлу: {json_size} KB')"
   ]
  },
  {
   "cell_type": "markdown",
   "id": "ceb0fead",
   "metadata": {},
   "source": [
    "Після стиснення LZ77"
   ]
  },
  {
   "cell_type": "code",
   "execution_count": 54,
   "id": "cf60a2a9",
   "metadata": {},
   "outputs": [
    {
     "name": "stdout",
     "output_type": "stream",
     "text": [
      "Розмір після стиснення LZ77: 10298264 KB\n",
      "Час стиснення LZ77: 13.49 секунд\n"
     ]
    }
   ],
   "source": [
    "lz77 = LZ77()\n",
    "\n",
    "start_lz77_compression = time.time()\n",
    "lz77_json = lz77.compress_file('./test/large-file.json')\n",
    "end_lz77_compression = time.time()\n",
    "\n",
    "lz77_json_size = os.stat('compressed_lz77.bin').st_size\n",
    "print(f'Розмір після стиснення LZ77: {lz77_json_size} KB')\n",
    "print(f'Час стиснення LZ77: {end_lz77_compression - start_lz77_compression:.2f} секунд')"
   ]
  },
  {
   "cell_type": "markdown",
   "id": "e4cdc856",
   "metadata": {},
   "source": [
    "Після стиснення LZ78"
   ]
  },
  {
   "cell_type": "code",
   "execution_count": 55,
   "id": "0d51e129",
   "metadata": {},
   "outputs": [
    {
     "name": "stdout",
     "output_type": "stream",
     "text": [
      "Розмір після стиснення LZ78: 10461282 KB\n",
      "Час стиснення LZ78: 6.33 секунд\n"
     ]
    }
   ],
   "source": [
    "lz78 = LZ78Compressor()\n",
    "\n",
    "start_lz78_compression = time.time()\n",
    "lz78_json = lz78.compress_file('./test/large-file.json')\n",
    "end_lz78_compression = time.time()\n",
    "\n",
    "\n",
    "lz78_json_size = os.stat('compressed_lz78.bin').st_size\n",
    "print(f'Розмір після стиснення LZ78: {lz78_json_size} KB')\n",
    "print(f'Час стиснення LZ78: {end_lz78_compression - start_lz78_compression:.2f} секунд')"
   ]
  },
  {
   "cell_type": "markdown",
   "id": "b36d4df3",
   "metadata": {},
   "source": [
    "Після стиснення LZW"
   ]
  },
  {
   "cell_type": "code",
   "execution_count": 56,
   "id": "cc8145f7",
   "metadata": {},
   "outputs": [
    {
     "name": "stdout",
     "output_type": "stream",
     "text": [
      "Розмір після стиснення LZW: 7906656 KB\n",
      "Час стиснення LZW: 5.42 секунд\n",
      "Час декомпресування LZW: 0.73 секунд\n"
     ]
    }
   ],
   "source": [
    "lzw = LZWCompressor()\n",
    "\n",
    "start_lzw_compression = time.time()\n",
    "lzw_json = lzw.compress_file('./test/large-file.json')\n",
    "end_lzw_compression = time.time()\n",
    "\n",
    "start_lzw_decompression = time.time()\n",
    "lzw.decompress_file('compressed_lzw.bin')\n",
    "end_lzw_decompression = time.time()\n",
    "\n",
    "lzw_json_size = os.stat('compressed_lzw.bin').st_size\n",
    "print(f'Розмір після стиснення LZW: {lzw_json_size} KB')\n",
    "print(f'Час стиснення LZW: {end_lzw_compression - start_lzw_compression:.2f} секунд')\n",
    "print(f'Час декомпресування LZW: {end_lzw_decompression - start_lzw_decompression:.2f} секунд')"
   ]
  },
  {
   "cell_type": "markdown",
   "id": "802997b6",
   "metadata": {},
   "source": [
    "Після стиснення алгоритмом Гаффмана"
   ]
  },
  {
   "cell_type": "code",
   "execution_count": 57,
   "id": "2c4b1ad4",
   "metadata": {},
   "outputs": [
    {
     "name": "stdout",
     "output_type": "stream",
     "text": [
      "Розмір після стиснення алгоритмом Гаффмана: 17085078 KB\n",
      "Час стиснення алгоритмом Гаффмана: 2.20 секунд\n",
      "Час декомпресування алгоритмом Гаффмана: 8.99 секунд\n"
     ]
    }
   ],
   "source": [
    "huffman = HuffmanTree()\n",
    "\n",
    "start_huffman_compression = time.time()\n",
    "huffman_json = huffman.compress_file('./test/large-file.json')\n",
    "end_huffman_compression = time.time()\n",
    "\n",
    "start_huffman_decompression = time.time()\n",
    "huffman.decompress_file('compressed_huffman.bin')\n",
    "end_huffman_decompression = time.time()\n",
    "\n",
    "huffman_json_size = os.stat('compressed_huffman.bin').st_size\n",
    "print(f'Розмір після стиснення алгоритмом Гаффмана: {huffman_json_size} KB')\n",
    "print(f'Час стиснення алгоритмом Гаффмана: {end_huffman_compression - start_huffman_compression:.2f} секунд')\n",
    "print(f'Час декомпресування алгоритмом Гаффмана: {end_huffman_decompression - start_huffman_decompression:.2f} секунд')"
   ]
  },
  {
   "cell_type": "markdown",
   "id": "1eaae07a",
   "metadata": {},
   "source": [
    "Після стиснення RLE"
   ]
  },
  {
   "cell_type": "code",
   "execution_count": 58,
   "id": "2bad4284",
   "metadata": {},
   "outputs": [
    {
     "name": "stdout",
     "output_type": "stream",
     "text": [
      "Розмір після стиснення алгоритмом RLE: 125559175 KB\n",
      "Час стиснення алгоритмом RLE: 4.63 секунд\n"
     ]
    }
   ],
   "source": [
    "rle = RLECompressor()\n",
    "\n",
    "start_rle_compression = time.time()\n",
    "rle_json = rle.compress_file('./test/large-file.json')\n",
    "end_rle_compression = time.time()\n",
    "\n",
    "rle_json_size = os.stat('compressed_rle.bin').st_size\n",
    "print(f'Розмір після стиснення алгоритмом RLE: {rle_json_size} KB')\n",
    "print(f'Час стиснення алгоритмом RLE: {end_rle_compression - start_rle_compression:.2f} секунд')"
   ]
  },
  {
   "cell_type": "markdown",
   "id": "f22eca0e",
   "metadata": {},
   "source": [
    "### Формат - csv, семпл - 100000 рядків"
   ]
  },
  {
   "cell_type": "markdown",
   "id": "3e518067",
   "metadata": {},
   "source": [
    "початковий розмір файлу"
   ]
  },
  {
   "cell_type": "code",
   "execution_count": 59,
   "id": "b20e76e3",
   "metadata": {},
   "outputs": [
    {
     "name": "stdout",
     "output_type": "stream",
     "text": [
      "Початковий розмір файлу: 17317579 KB\n"
     ]
    }
   ],
   "source": [
    "csv_size = os.stat('./test/customers-100000.csv').st_size\n",
    "print(f'Початковий розмір файлу: {csv_size} KB')"
   ]
  },
  {
   "cell_type": "markdown",
   "id": "bedf0136",
   "metadata": {},
   "source": [
    "Після стиснення LZ77"
   ]
  },
  {
   "cell_type": "code",
   "execution_count": 60,
   "id": "6cac3ad6",
   "metadata": {},
   "outputs": [
    {
     "name": "stdout",
     "output_type": "stream",
     "text": [
      "Розмір після стиснення LZ77: 13170138 KB\n",
      "Час стиснення LZ77: 13.88 секунд\n"
     ]
    }
   ],
   "source": [
    "lz77 = LZ77()\n",
    "\n",
    "start_lz77_compression = time.time()\n",
    "lz77_json = lz77.compress_file('./test/customers-100000.csv')\n",
    "end_lz77_compression = time.time()\n",
    "\n",
    "lz77_csv_size = os.stat('compressed_lz77.bin').st_size\n",
    "print(f'Розмір після стиснення LZ77: {lz77_csv_size} KB')\n",
    "print(f'Час стиснення LZ77: {end_lz77_compression - start_lz77_compression:.2f} секунд')"
   ]
  },
  {
   "cell_type": "markdown",
   "id": "b6eb1918",
   "metadata": {},
   "source": [
    "Після стиснення LZ78"
   ]
  },
  {
   "cell_type": "code",
   "execution_count": 61,
   "id": "53527f0f",
   "metadata": {},
   "outputs": [
    {
     "name": "stdout",
     "output_type": "stream",
     "text": [
      "Розмір після стиснення LZ78: 14171645 KB\n",
      "Час стиснення LZ78: 4.79 секунд\n"
     ]
    }
   ],
   "source": [
    "lz78 = LZ78Compressor()\n",
    "\n",
    "start_lz78_compression = time.time()\n",
    "lz78_json = lz78.compress_file('./test/customers-100000.csv')\n",
    "end_lz78_compression = time.time()\n",
    "\n",
    "\n",
    "lz78_csv_size = os.stat('compressed_lz78.bin').st_size\n",
    "print(f'Розмір після стиснення LZ78: {lz78_csv_size} KB')\n",
    "print(f'Час стиснення LZ78: {end_lz78_compression - start_lz78_compression:.2f} секунд')"
   ]
  },
  {
   "cell_type": "markdown",
   "id": "f124abde",
   "metadata": {},
   "source": [
    "Після стиснення LZW"
   ]
  },
  {
   "cell_type": "code",
   "execution_count": 62,
   "id": "d3c861dc",
   "metadata": {},
   "outputs": [
    {
     "name": "stdout",
     "output_type": "stream",
     "text": [
      "Розмір після стиснення LZW: 10838512 KB\n",
      "Час стиснення LZW: 4.86 секунд\n",
      "Час декомпресування LZW: 1.23 секунд\n"
     ]
    }
   ],
   "source": [
    "lzw = LZWCompressor()\n",
    "\n",
    "start_lzw_compression = time.time()\n",
    "lzw_csv = lzw.compress_file('./test/customers-100000.csv')\n",
    "end_lzw_compression = time.time()\n",
    "\n",
    "start_lzw_decompression = time.time()\n",
    "lzw.decompress_file('compressed_lzw.bin')\n",
    "end_lzw_decompression = time.time()\n",
    "\n",
    "lzw_csv_size = os.stat('compressed_lzw.bin').st_size\n",
    "print(f'Розмір після стиснення LZW: {lzw_csv_size} KB')\n",
    "print(f'Час стиснення LZW: {end_lzw_compression - start_lzw_compression:.2f} секунд')\n",
    "print(f'Час декомпресування LZW: {end_lzw_decompression - start_lzw_decompression:.2f} секунд')"
   ]
  },
  {
   "cell_type": "markdown",
   "id": "a374379e",
   "metadata": {},
   "source": [
    "Після стиснення алгоритмом Гаффмана"
   ]
  },
  {
   "cell_type": "code",
   "execution_count": 63,
   "id": "aeb0725f",
   "metadata": {},
   "outputs": [
    {
     "name": "stdout",
     "output_type": "stream",
     "text": [
      "Розмір після стиснення алгоритмом Гаффмана: 11956603 KB\n",
      "Час стиснення алгоритмом Гаффмана: 1.50 секунд\n",
      "Час декомпресування алгоритмом Гаффмана: 6.37 секунд\n"
     ]
    }
   ],
   "source": [
    "huffman = HuffmanTree()\n",
    "\n",
    "start_huffman_compression = time.time()\n",
    "huffman_csv = huffman.compress_file('./test/customers-100000.csv')\n",
    "end_huffman_compression = time.time()\n",
    "\n",
    "start_huffman_decompression = time.time()\n",
    "huffman.decompress_file('compressed_huffman.bin')\n",
    "end_huffman_decompression = time.time()\n",
    "\n",
    "huffman_csv_size = os.stat('compressed_huffman.bin').st_size\n",
    "print(f'Розмір після стиснення алгоритмом Гаффмана: {huffman_csv_size} KB')\n",
    "print(f'Час стиснення алгоритмом Гаффмана: {end_huffman_compression - start_huffman_compression:.2f} секунд')\n",
    "print(f'Час декомпресування алгоритмом Гаффмана: {end_huffman_decompression - start_huffman_decompression:.2f} секунд')"
   ]
  },
  {
   "cell_type": "markdown",
   "id": "1650fb30",
   "metadata": {},
   "source": [
    "Після стиснення RLE"
   ]
  },
  {
   "cell_type": "code",
   "execution_count": 64,
   "id": "9b3cc3b3",
   "metadata": {},
   "outputs": [
    {
     "name": "stdout",
     "output_type": "stream",
     "text": [
      "Розмір після стиснення алгоритмом RLE: 82041050 KB\n",
      "Час стиснення алгоритмом RLE: 3.10 секунд\n"
     ]
    }
   ],
   "source": [
    "rle = RLECompressor()\n",
    "\n",
    "start_rle_compression = time.time()\n",
    "rle_csv = rle.compress_file('./test/customers-100000.csv')\n",
    "end_rle_compression = time.time()\n",
    "\n",
    "rle_csv_size = os.stat('compressed_rle.bin').st_size\n",
    "print(f'Розмір після стиснення алгоритмом RLE: {rle_csv_size} KB')\n",
    "print(f'Час стиснення алгоритмом RLE: {end_rle_compression - start_rle_compression:.2f} секунд')"
   ]
  },
  {
   "cell_type": "markdown",
   "id": "1b930068",
   "metadata": {},
   "source": [
    "### Формат - bmp"
   ]
  },
  {
   "cell_type": "markdown",
   "id": "577c3d1a",
   "metadata": {},
   "source": [
    "початковий розмір файлу"
   ]
  },
  {
   "cell_type": "code",
   "execution_count": 65,
   "id": "8d3d9deb",
   "metadata": {},
   "outputs": [
    {
     "name": "stdout",
     "output_type": "stream",
     "text": [
      "Початковий розмір файлу: 53747850 KB\n"
     ]
    }
   ],
   "source": [
    "bmp_size = os.stat('./test/sample_5184×3456.bmp').st_size\n",
    "print(f'Початковий розмір файлу: {bmp_size} KB')"
   ]
  },
  {
   "cell_type": "markdown",
   "id": "fa2cd12e",
   "metadata": {},
   "source": [
    "Після стиснення алгоритмом Гаффмана"
   ]
  },
  {
   "cell_type": "code",
   "execution_count": 66,
   "id": "6eb53512",
   "metadata": {},
   "outputs": [
    {
     "name": "stdout",
     "output_type": "stream",
     "text": [
      "Розмір після стиснення алгоритмом Гаффмана: 53045579 KB\n",
      "Час стиснення алгоритмом Гаффмана: 4.88 секунд\n",
      "Час декомпресування алгоритмом Гаффмана: 27.18 секунд\n"
     ]
    }
   ],
   "source": [
    "huffman = HuffmanTree()\n",
    "\n",
    "start_huffman_compression = time.time()\n",
    "huffman_bmp = huffman.compress_file('./test/sample_5184×3456.bmp')\n",
    "end_huffman_compression = time.time()\n",
    "\n",
    "start_huffman_decompression = time.time()\n",
    "huffman.decompress_file('compressed_huffman.bin')\n",
    "end_huffman_decompression = time.time()\n",
    "\n",
    "huffman_bmp_size = os.stat('compressed_huffman.bin').st_size\n",
    "print(f'Розмір після стиснення алгоритмом Гаффмана: {huffman_bmp_size} KB')\n",
    "print(f'Час стиснення алгоритмом Гаффмана: {end_huffman_compression - start_huffman_compression:.2f} секунд')\n",
    "print(f'Час декомпресування алгоритмом Гаффмана: {end_huffman_decompression - start_huffman_decompression:.2f} секунд')"
   ]
  },
  {
   "cell_type": "markdown",
   "id": "44de8691",
   "metadata": {},
   "source": [
    "Після стиснення RLE"
   ]
  },
  {
   "cell_type": "code",
   "execution_count": 67,
   "id": "1932c6c1",
   "metadata": {},
   "outputs": [
    {
     "name": "stdout",
     "output_type": "stream",
     "text": [
      "Розмір після стиснення алгоритмом RLE: 265149360 KB\n",
      "Час стиснення алгоритмом RLE: 10.76 секунд\n"
     ]
    }
   ],
   "source": [
    "rle = RLECompressor()\n",
    "\n",
    "start_rle_compression = time.time()\n",
    "rle_bmp = rle.compress_file('./test/sample_5184×3456.bmp')\n",
    "end_rle_compression = time.time()\n",
    "\n",
    "rle_bmp_size = os.stat('compressed_rle.bin').st_size\n",
    "print(f'Розмір після стиснення алгоритмом RLE: {rle_bmp_size} KB')\n",
    "print(f'Час стиснення алгоритмом RLE: {end_rle_compression - start_rle_compression:.2f} секунд')"
   ]
  },
  {
   "cell_type": "markdown",
   "id": "a9383521",
   "metadata": {},
   "source": [
    "### Формат - jpeg"
   ]
  },
  {
   "cell_type": "markdown",
   "id": "8e58cda8",
   "metadata": {},
   "source": [
    "початковий розмір файлу"
   ]
  },
  {
   "cell_type": "code",
   "execution_count": 68,
   "id": "6e2e3871",
   "metadata": {},
   "outputs": [
    {
     "name": "stdout",
     "output_type": "stream",
     "text": [
      "Початковий розмір файлу: 21348301 KB\n"
     ]
    }
   ],
   "source": [
    "jpeg_size = os.stat('./test/SampleJPGImage_20mbmb.jpg').st_size\n",
    "print(f'Початковий розмір файлу: {jpeg_size} KB')"
   ]
  },
  {
   "cell_type": "markdown",
   "id": "2644d80b",
   "metadata": {},
   "source": [
    "Після стиснення алгоритмом Гаффмана"
   ]
  },
  {
   "cell_type": "code",
   "execution_count": 69,
   "id": "36840307",
   "metadata": {},
   "outputs": [
    {
     "name": "stdout",
     "output_type": "stream",
     "text": [
      "Розмір після стиснення алгоритмом Гаффмана: 21258491 KB\n",
      "Час стиснення алгоритмом Гаффмана: 2.12 секунд\n",
      "Час декомпресування алгоритмом Гаффмана: 11.16 секунд\n"
     ]
    }
   ],
   "source": [
    "huffman = HuffmanTree()\n",
    "\n",
    "start_huffman_compression = time.time()\n",
    "huffman_jpg = huffman.compress_file('./test/SampleJPGImage_20mbmb.jpg')\n",
    "end_huffman_compression = time.time()\n",
    "\n",
    "start_huffman_decompression = time.time()\n",
    "huffman.decompress_file('compressed_huffman.bin')\n",
    "end_huffman_decompression = time.time()\n",
    "\n",
    "huffman_jpg_size = os.stat('compressed_huffman.bin').st_size\n",
    "print(f'Розмір після стиснення алгоритмом Гаффмана: {huffman_jpg_size} KB')\n",
    "print(f'Час стиснення алгоритмом Гаффмана: {end_huffman_compression - start_huffman_compression:.2f} секунд')\n",
    "print(f'Час декомпресування алгоритмом Гаффмана: {end_huffman_decompression - start_huffman_decompression:.2f} секунд')"
   ]
  },
  {
   "cell_type": "markdown",
   "id": "d3220de4",
   "metadata": {},
   "source": [
    "### Формат - png"
   ]
  },
  {
   "cell_type": "markdown",
   "id": "aa1b63ff",
   "metadata": {},
   "source": [
    "початковий розмір файлу"
   ]
  },
  {
   "cell_type": "code",
   "execution_count": 70,
   "id": "fc5b3acd",
   "metadata": {},
   "outputs": [
    {
     "name": "stdout",
     "output_type": "stream",
     "text": [
      "Початковий розмір файлу: 10473459 KB\n"
     ]
    }
   ],
   "source": [
    "png_size = os.stat('./test/SamplePNGImage_10mbmb.png').st_size\n",
    "print(f'Початковий розмір файлу: {png_size} KB')"
   ]
  },
  {
   "cell_type": "markdown",
   "id": "f1d03338",
   "metadata": {},
   "source": [
    "Після стиснення алгоритмом Гаффмана"
   ]
  },
  {
   "cell_type": "code",
   "execution_count": 71,
   "id": "be652f52",
   "metadata": {},
   "outputs": [
    {
     "name": "stdout",
     "output_type": "stream",
     "text": [
      "Розмір після стиснення алгоритмом Гаффмана: 10459793 KB\n",
      "Час стиснення алгоритмом Гаффмана: 1.02 секунд\n",
      "Час декомпресування алгоритмом Гаффмана: 5.39 секунд\n"
     ]
    }
   ],
   "source": [
    "huffman = HuffmanTree()\n",
    "\n",
    "start_huffman_compression = time.time()\n",
    "huffman_png = huffman.compress_file('./test/SamplePNGImage_10mbmb.png')\n",
    "end_huffman_compression = time.time()\n",
    "\n",
    "start_huffman_decompression = time.time()\n",
    "huffman.decompress_file('compressed_huffman.bin')\n",
    "end_huffman_decompression = time.time()\n",
    "\n",
    "huffman_png_size = os.stat('compressed_huffman.bin').st_size\n",
    "print(f'Розмір після стиснення алгоритмом Гаффмана: {huffman_png_size} KB')\n",
    "print(f'Час стиснення алгоритмом Гаффмана: {end_huffman_compression - start_huffman_compression:.2f} секунд')\n",
    "print(f'Час декомпресування алгоритмом Гаффмана: {end_huffman_decompression - start_huffman_decompression:.2f} секунд')"
   ]
  },
  {
   "cell_type": "markdown",
   "id": "b46f7452",
   "metadata": {},
   "source": [
    "Після стиснення RLE"
   ]
  },
  {
   "cell_type": "code",
   "execution_count": 72,
   "id": "28139b10",
   "metadata": {},
   "outputs": [
    {
     "name": "stdout",
     "output_type": "stream",
     "text": [
      "Розмір після стиснення алгоритмом RLE: 52099685 KB\n",
      "Час стиснення алгоритмом RLE: 1.62 секунд\n"
     ]
    }
   ],
   "source": [
    "rle = RLECompressor()\n",
    "\n",
    "start_rle_compression = time.time()\n",
    "rle_png = rle.compress_file('./test/SamplePNGImage_10mbmb.png')\n",
    "end_rle_compression = time.time()\n",
    "\n",
    "rle_png_size = os.stat('compressed_rle.bin').st_size\n",
    "print(f'Розмір після стиснення алгоритмом RLE: {rle_png_size} KB')\n",
    "print(f'Час стиснення алгоритмом RLE: {end_rle_compression - start_rle_compression:.2f} секунд')"
   ]
  },
  {
   "cell_type": "markdown",
   "id": "4cd0b5f4",
   "metadata": {},
   "source": [
    "### Формат - flac"
   ]
  },
  {
   "cell_type": "markdown",
   "id": "9da81ad6",
   "metadata": {},
   "source": [
    "початковий розмір файлу"
   ]
  },
  {
   "cell_type": "code",
   "execution_count": 73,
   "id": "1fc95394",
   "metadata": {},
   "outputs": [
    {
     "name": "stdout",
     "output_type": "stream",
     "text": [
      "Початковий розмір файлу: 22990117 KB\n"
     ]
    }
   ],
   "source": [
    "flac_size = os.stat('./test/sample2.flac').st_size\n",
    "print(f'Початковий розмір файлу: {flac_size} KB')"
   ]
  },
  {
   "cell_type": "markdown",
   "id": "19491f25",
   "metadata": {},
   "source": [
    "Після стиснення алгоритмом Гаффмана"
   ]
  },
  {
   "cell_type": "code",
   "execution_count": 74,
   "id": "ae6d4adb",
   "metadata": {},
   "outputs": [
    {
     "name": "stdout",
     "output_type": "stream",
     "text": [
      "Розмір після стиснення алгоритмом Гаффмана: 22990117 KB\n",
      "Час стиснення алгоритмом Гаффмана: 2.23 секунд\n",
      "Час декомпресування алгоритмом Гаффмана: 12.29 секунд\n"
     ]
    }
   ],
   "source": [
    "huffman = HuffmanTree()\n",
    "\n",
    "start_huffman_compression = time.time()\n",
    "huffman_flac = huffman.compress_file('./test/sample2.flac')\n",
    "end_huffman_compression = time.time()\n",
    "\n",
    "start_huffman_decompression = time.time()\n",
    "huffman.decompress_file('compressed_huffman.bin')\n",
    "end_huffman_decompression = time.time()\n",
    "\n",
    "huffman_flac_size = os.stat('compressed_huffman.bin').st_size\n",
    "print(f'Розмір після стиснення алгоритмом Гаффмана: {huffman_flac_size} KB')\n",
    "print(f'Час стиснення алгоритмом Гаффмана: {end_huffman_compression - start_huffman_compression:.2f} секунд')\n",
    "print(f'Час декомпресування алгоритмом Гаффмана: {end_huffman_decompression - start_huffman_decompression:.2f} секунд')"
   ]
  },
  {
   "cell_type": "markdown",
   "id": "a06df1e3",
   "metadata": {},
   "source": [
    "### Формат - wav"
   ]
  },
  {
   "cell_type": "markdown",
   "id": "82eabdd1",
   "metadata": {},
   "source": [
    "початковий розмір файлу"
   ]
  },
  {
   "cell_type": "code",
   "execution_count": 75,
   "id": "2492cd03",
   "metadata": {},
   "outputs": [
    {
     "name": "stdout",
     "output_type": "stream",
     "text": [
      "Початковий розмір файлу: 25784 KB\n"
     ]
    }
   ],
   "source": [
    "wav_size = os.stat('./test/Ouch-1.wav').st_size\n",
    "print(f'Початковий розмір файлу: {wav_size} KB')"
   ]
  },
  {
   "cell_type": "markdown",
   "id": "fa9e829c",
   "metadata": {},
   "source": [
    "Після стиснення алгоритмом Гаффмана"
   ]
  },
  {
   "cell_type": "code",
   "execution_count": 76,
   "id": "a9994dc2",
   "metadata": {},
   "outputs": [
    {
     "name": "stdout",
     "output_type": "stream",
     "text": [
      "Розмір після стиснення алгоритмом Гаффмана: 22336 KB\n",
      "Час стиснення алгоритмом Гаффмана: 0.01 секунд\n",
      "Час декомпресування алгоритмом Гаффмана: 0.01 секунд\n"
     ]
    }
   ],
   "source": [
    "huffman = HuffmanTree()\n",
    "\n",
    "start_huffman_compression = time.time()\n",
    "huffman_flac = huffman.compress_file('./test/Ouch-1.wav')\n",
    "end_huffman_compression = time.time()\n",
    "\n",
    "start_huffman_decompression = time.time()\n",
    "huffman.decompress_file('compressed_huffman.bin')\n",
    "end_huffman_decompression = time.time()\n",
    "\n",
    "huffman_flac_size = os.stat('compressed_huffman.bin').st_size\n",
    "print(f'Розмір після стиснення алгоритмом Гаффмана: {huffman_flac_size} KB')\n",
    "print(f'Час стиснення алгоритмом Гаффмана: {end_huffman_compression - start_huffman_compression:.2f} секунд')\n",
    "print(f'Час декомпресування алгоритмом Гаффмана: {end_huffman_decompression - start_huffman_decompression:.2f} секунд')"
   ]
  }
 ],
 "metadata": {
  "kernelspec": {
   "display_name": ".venv",
   "language": "python",
   "name": "python3"
  },
  "language_info": {
   "codemirror_mode": {
    "name": "ipython",
    "version": 3
   },
   "file_extension": ".py",
   "mimetype": "text/x-python",
   "name": "python",
   "nbconvert_exporter": "python",
   "pygments_lexer": "ipython3",
   "version": "3.13.2"
  }
 },
 "nbformat": 4,
 "nbformat_minor": 5
}
