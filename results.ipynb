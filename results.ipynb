{
 "cells": [
  {
   "cell_type": "markdown",
   "id": "27a8d616",
   "metadata": {},
   "source": [
    "### Проміжні результати роботи над комп'ютерним проєктом"
   ]
  },
  {
   "cell_type": "markdown",
   "id": "6f2b87a6",
   "metadata": {},
   "source": [
    "Виконала команда 12: Оксана Москв'як, Андрій Кульбаба, Олег Гуцуляк, Олександр Стаднік."
   ]
  },
  {
   "cell_type": "markdown",
   "id": "a035c77c",
   "metadata": {},
   "source": [
    "### Код Хаффмана (Huffman Coding)"
   ]
  },
  {
   "cell_type": "markdown",
   "id": "c5ad6ebd",
   "metadata": {},
   "source": [
    "Кодування Хафммана реалізоване за допомогою структури дерева Хаффмана як основи.\n",
    "\n",
    "- створено клас об'єкта вершини дерева \n",
    "- створено рекурсивну функцію, яка генерує коди для кожного знаку\n",
    "- створено функцію побудови дерева через об'єднання двох вершин з мінімальними значеннями в 1\n",
    "- функція encoding - закодовує файл, наданий нам використовуючи при цьому mmap для роботи з файлами(для збереження пам'яті та підтримки різних форматів), будує дерево, словник значень, генерує коди для знаків, зберігає словник(json) знаків, кількість істиної інформації, початкове розширення файлу для декодування.\n",
    "- функція decoding - розкодовує закодований нами файл відповідно до словника та початкового розширення.\n",
    "\n",
    "Інші використані структури:\n",
    "- Черга(deque) - для видалення переглянутого \"декодованого\" знаку\n",
    "- defaultdict - у створенні словника, який зберігає кількість використання певного знаку\n",
    "- bitarray - для збереження результату кодування\n",
    "- heapq - використовується як структура min-heap - повне бінарне дерево, корінь якого має найменше значення серед усіх його нащадків, це має виконуватись для лівого і правого піддерев, потрібна щоб об'єднати дві вершини мінімального значення в 1 при побудові."
   ]
  },
  {
   "cell_type": "code",
   "execution_count": 1,
   "id": "639edfca",
   "metadata": {},
   "outputs": [],
   "source": [
    "import os"
   ]
  },
  {
   "cell_type": "markdown",
   "id": "84815d5d",
   "metadata": {},
   "source": [
    "#### Приклад - \"Місто\", формат txt"
   ]
  },
  {
   "cell_type": "markdown",
   "id": "e6b90fb9",
   "metadata": {},
   "source": [
    "початковий розмір файлу"
   ]
  },
  {
   "cell_type": "code",
   "execution_count": null,
   "id": "e534639a",
   "metadata": {},
   "outputs": [
    {
     "data": {
      "text/plain": [
       "911282"
      ]
     },
     "execution_count": 2,
     "metadata": {},
     "output_type": "execute_result"
    }
   ],
   "source": [
    "misto_size = os.stat('./compression/pidmohylnyy-valerian-petrovych-misto76.txt').st_size\n",
    "misto_size"
   ]
  },
  {
   "cell_type": "markdown",
   "id": "6e4fe2b7",
   "metadata": {},
   "source": [
    "вбудований zip-архіватор"
   ]
  },
  {
   "cell_type": "code",
   "execution_count": 2,
   "id": "2f16bc93",
   "metadata": {},
   "outputs": [
    {
     "data": {
      "text/plain": [
       "277784"
      ]
     },
     "execution_count": 2,
     "metadata": {},
     "output_type": "execute_result"
    }
   ],
   "source": [
    "misto_size_built = os.stat('./compression/pidmohylnyy-valerian-petrovych-misto76.txt.zip').st_size\n",
    "misto_size_built"
   ]
  },
  {
   "cell_type": "markdown",
   "id": "fdaa1010",
   "metadata": {},
   "source": [
    "Кодування Гаффмана"
   ]
  },
  {
   "cell_type": "code",
   "execution_count": 4,
   "id": "e959921c",
   "metadata": {},
   "outputs": [
    {
     "data": {
      "text/plain": [
       "304038"
      ]
     },
     "execution_count": 4,
     "metadata": {},
     "output_type": "execute_result"
    }
   ],
   "source": [
    "misto_size_huffman = os.stat('./compressed_misto_huffman.bin').st_size\n",
    "misto_size_huffman"
   ]
  },
  {
   "cell_type": "markdown",
   "id": "2ab0453a",
   "metadata": {},
   "source": [
    "#### Приклад - великий json file"
   ]
  },
  {
   "cell_type": "markdown",
   "id": "83a742fe",
   "metadata": {},
   "source": [
    "початковий розмір файлу"
   ]
  },
  {
   "cell_type": "code",
   "execution_count": 6,
   "id": "2db3adee",
   "metadata": {},
   "outputs": [
    {
     "data": {
      "text/plain": [
       "26141343"
      ]
     },
     "execution_count": 6,
     "metadata": {},
     "output_type": "execute_result"
    }
   ],
   "source": [
    "json_size = os.stat('./compression/large-file.json').st_size\n",
    "json_size"
   ]
  },
  {
   "cell_type": "markdown",
   "id": "6fc0d86c",
   "metadata": {},
   "source": [
    "вбудований zip-архіватор"
   ]
  },
  {
   "cell_type": "code",
   "execution_count": 7,
   "id": "2d0db304",
   "metadata": {},
   "outputs": [
    {
     "data": {
      "text/plain": [
       "3845106"
      ]
     },
     "execution_count": 7,
     "metadata": {},
     "output_type": "execute_result"
    }
   ],
   "source": [
    "big_json_size = os.stat('./compression/large-file.json.zip').st_size\n",
    "big_json_size"
   ]
  },
  {
   "cell_type": "markdown",
   "id": "eb008c17",
   "metadata": {},
   "source": [
    "Кодування Гаффмана"
   ]
  },
  {
   "cell_type": "code",
   "execution_count": 9,
   "id": "260192eb",
   "metadata": {},
   "outputs": [
    {
     "data": {
      "text/plain": [
       "17012930"
      ]
     },
     "execution_count": 9,
     "metadata": {},
     "output_type": "execute_result"
    }
   ],
   "source": [
    "big_json_huffman_size = os.stat('./compressed_json_huffman.bin').st_size\n",
    "big_json_huffman_size"
   ]
  },
  {
   "cell_type": "markdown",
   "id": "2b0449cd",
   "metadata": {},
   "source": [
    "#### Приклад - csv файл з користувачами на 100000 рядків"
   ]
  },
  {
   "cell_type": "markdown",
   "id": "e7370c14",
   "metadata": {},
   "source": [
    "початковий розмір файлу"
   ]
  },
  {
   "cell_type": "code",
   "execution_count": 10,
   "id": "d0d6e4e1",
   "metadata": {},
   "outputs": [
    {
     "data": {
      "text/plain": [
       "17317579"
      ]
     },
     "execution_count": 10,
     "metadata": {},
     "output_type": "execute_result"
    }
   ],
   "source": [
    "csv_size = os.stat('./compression/customers-100000.csv').st_size\n",
    "csv_size"
   ]
  },
  {
   "cell_type": "markdown",
   "id": "2f2ec1e9",
   "metadata": {},
   "source": [
    "вбудований zip-архіватор"
   ]
  },
  {
   "cell_type": "code",
   "execution_count": 11,
   "id": "0aa68e56",
   "metadata": {},
   "outputs": [
    {
     "data": {
      "text/plain": [
       "8197738"
      ]
     },
     "execution_count": 11,
     "metadata": {},
     "output_type": "execute_result"
    }
   ],
   "source": [
    "customers_100000_size = os.stat('./compression/customers-100000.csv.zip').st_size\n",
    "customers_100000_size"
   ]
  },
  {
   "cell_type": "markdown",
   "id": "fb48fc23",
   "metadata": {},
   "source": [
    "Кодування Гаффмана"
   ]
  },
  {
   "cell_type": "code",
   "execution_count": 13,
   "id": "45efeca8",
   "metadata": {},
   "outputs": [
    {
     "data": {
      "text/plain": [
       "11956603"
      ]
     },
     "execution_count": 13,
     "metadata": {},
     "output_type": "execute_result"
    }
   ],
   "source": [
    "customers_100000_huffman_size = os.stat('compressed_customers_100000_huffman.bin').st_size\n",
    "customers_100000_huffman_size"
   ]
  },
  {
   "cell_type": "markdown",
   "id": "9153bd3e",
   "metadata": {},
   "source": [
    "#### Приклад jpeg file"
   ]
  },
  {
   "cell_type": "markdown",
   "id": "00630571",
   "metadata": {},
   "source": [
    "початковий розмір файлу"
   ]
  },
  {
   "cell_type": "code",
   "execution_count": 3,
   "id": "ecd288ca",
   "metadata": {},
   "outputs": [
    {
     "data": {
      "text/plain": [
       "1375696"
      ]
     },
     "execution_count": 3,
     "metadata": {},
     "output_type": "execute_result"
    }
   ],
   "source": [
    "sample_jpeg = os.stat('sample-jpeg.jpeg').st_size\n",
    "sample_jpeg"
   ]
  },
  {
   "cell_type": "markdown",
   "id": "bcef60a8",
   "metadata": {},
   "source": [
    "вбудований zip-архіватор"
   ]
  },
  {
   "cell_type": "code",
   "execution_count": 4,
   "id": "d8a6649c",
   "metadata": {},
   "outputs": [
    {
     "data": {
      "text/plain": [
       "1369083"
      ]
     },
     "execution_count": 4,
     "metadata": {},
     "output_type": "execute_result"
    }
   ],
   "source": [
    "sample_jpeg_zip = os.stat('sample-jpeg.jpeg.zip').st_size\n",
    "sample_jpeg_zip"
   ]
  },
  {
   "cell_type": "markdown",
   "id": "d9b676e4",
   "metadata": {},
   "source": [
    "Кодування Гаффмана"
   ]
  },
  {
   "cell_type": "code",
   "execution_count": 5,
   "id": "8a9a4edb",
   "metadata": {},
   "outputs": [
    {
     "data": {
      "text/plain": [
       "1375402"
      ]
     },
     "execution_count": 5,
     "metadata": {},
     "output_type": "execute_result"
    }
   ],
   "source": [
    "sample_jpeg = os.stat('compressed_huffman.bin').st_size\n",
    "sample_jpeg"
   ]
  },
  {
   "cell_type": "markdown",
   "id": "21ef61ee",
   "metadata": {},
   "source": [
    "#### Приклад .flac"
   ]
  },
  {
   "cell_type": "markdown",
   "id": "6201f40c",
   "metadata": {},
   "source": [
    "початковий розмір файлу"
   ]
  },
  {
   "cell_type": "code",
   "execution_count": null,
   "id": "22538b68",
   "metadata": {},
   "outputs": [
    {
     "data": {
      "text/plain": [
       "1986659"
      ]
     },
     "execution_count": 6,
     "metadata": {},
     "output_type": "execute_result"
    }
   ],
   "source": [
    "sample_flac = os.stat('sample-flac-small.flac').st_size\n",
    "sample_flac"
   ]
  },
  {
   "cell_type": "markdown",
   "id": "537b5100",
   "metadata": {},
   "source": [
    "вбудований zip-архіватор"
   ]
  },
  {
   "cell_type": "code",
   "execution_count": 7,
   "id": "251434fc",
   "metadata": {},
   "outputs": [
    {
     "data": {
      "text/plain": [
       "1979286"
      ]
     },
     "execution_count": 7,
     "metadata": {},
     "output_type": "execute_result"
    }
   ],
   "source": [
    "sample_flac_zip = os.stat('sample-flac-small.flac.zip').st_size\n",
    "sample_flac_zip"
   ]
  },
  {
   "cell_type": "markdown",
   "id": "ce789e74",
   "metadata": {},
   "source": [
    "Кодування Гаффмана"
   ]
  },
  {
   "cell_type": "code",
   "execution_count": 8,
   "id": "1b3ed525",
   "metadata": {},
   "outputs": [
    {
     "data": {
      "text/plain": [
       "1986536"
      ]
     },
     "execution_count": 8,
     "metadata": {},
     "output_type": "execute_result"
    }
   ],
   "source": [
    "sample_flac_huffman = os.stat('compressed_huffman.bin').st_size\n",
    "sample_flac_huffman"
   ]
  },
  {
   "cell_type": "markdown",
   "id": "a48b0bf6",
   "metadata": {},
   "source": [
    "### LZ77"
   ]
  },
  {
   "cell_type": "markdown",
   "id": "f7cebcd6",
   "metadata": {},
   "source": [
    "Реалізація алгоритму стиснення LZ77, заснованого на принципі ковзного вікна (sliding window). Алгоритм знаходить повторювані послідовності байтів у нещодавно оброблених даних і замінює їх посиланнями формату (відстань назад, довжина збігу). Байти, що не мають збігів, кодуються як є (літерали).\n",
    "\n",
    "Основні компоненти:\n",
    "\n",
    "    Клас LZ77: Інкапсулює всю логіку стиснення та декомпресії. Має конфігурований розмір ковзного вікна (window_size) та фіксований розмір буфера попереднього перегляду (lookahead_buffer_size).\n",
    "    Функція find_match:\n",
    "        Здійснює пошук найдовшого збігу для поточної позиції даних у межах ковзного вікна.\n",
    "        Використовує хеш-таблицю (dict) для швидкого пошуку потенційних кандидатів на збіг (індексує позиції за хешем 3-байтових послідовностей).\n",
    "        Оптимізація: Включає механізм очищення хеш-таблиці від застарілих записів (позицій, що вийшли за межі ковзного вікна) перед перебором кандидатів, що прискорює пошук у великих файлах. Очищення реалізоване через list comprehension.\n",
    "    Функція compress_file:\n",
    "        Виконує процес стиснення файлу.\n",
    "        Читає вхідний файл за допомогою mmap та використовує memoryview для ефективного доступу до даних без зайвого копіювання.\n",
    "        Ітерує по даних, викликаючи find_match для пошуку збігів.\n",
    "        Формує вихідний стиснений потік бітів за допомогою бібліотеки bitarray. Схема кодування:\n",
    "            Збіг: 1 біт-прапорець (True) + 16 бітів (12 біт відстань, 4 біти довжина).\n",
    "            Літерал: 1 біт-прапорець (False) + 8 бітів (байт літерала).\n",
    "        Метадані: Зберігає на початку стисненого файлу інформацію про розширення оригінального файлу (довжину та самі байти розширення), використовуючи модуль struct.\n",
    "    Функція decompress_file:\n",
    "        Виконує процес декомпресії.\n",
    "        Читає метадані (розширення) з початку файлу.\n",
    "        Читає основний потік стиснених даних у bitarray.\n",
    "        Декодує бітовий потік, розрізняючи літерали та пари (відстань, довжина) за прапорцем.\n",
    "        Відтворює оригінальні дані в bytearray, або додаючи літерали, або копіюючи послідовності з уже декодованої частини буфера відповідно до (відстань, довжина).\n",
    "        Записує відновлені дані у вихідний файл із збереженим оригінальним розширенням.\n",
    "\n",
    "Інші використані структури/модулі:\n",
    "\n",
    "    mmap / memoryview: Для ефективної роботи з файлами та доступу до даних в пам'яті.\n",
    "    dict (хеш-таблиця): Для індексації позицій та прискорення пошуку збігів.\n",
    "    bitarray: Для гнучкої роботи з бітовими потоками змінної довжини.\n",
    "    struct: Для пакування/розпакування бінарних метаданих (інформації про розширення).\n",
    "    List comprehension: Використовується для реалізації механізму очищення хеш-таблиці."
   ]
  },
  {
   "cell_type": "markdown",
   "id": "8f82c8a7",
   "metadata": {},
   "source": [
    "Тестування программи на стиснення файлів проводилося на фйлах (у дургих дужках розміри після стисненян 7 zip):\n",
    "- biblija.txt (7,81 МБ ) (2205 кб)\n",
    "- customers-100000.csv (16.5 мб) (8006 кб)\n",
    "- large-file.json (24,9 мб) (3754 кб)\n",
    "- harrypotter.txt (6.21 мб) (2354 кб)\n",
    "- pidmohylnyy-valerian-petrovych-misto76 (889 кб) (270 кб) \n",
    "\n",
    "\n",
    "після стисення фалий отримють рощирення .lz77 \n",
    "- biblij.lz7 (4131 кб)\n",
    "- customers-100000.lz77 (12862 кб)\n",
    "- harrypotter.lz77 (3984 кб)\n",
    "- large-file.lz77 (10057 кб)\n",
    "- pidmohylnyy-valerian-petrovych-misto76.lz77 (470 кб)\n"
   ]
  },
  {
   "cell_type": "markdown",
   "id": "fdd244c8",
   "metadata": {},
   "source": [
    "### LZ78"
   ]
  },
  {
   "cell_type": "markdown",
   "id": "3707bb6f",
   "metadata": {},
   "source": [
    "Алгоритм LZ78 реалізований як клас `LZ78Compressor`, що включає методи для стиснення та розпакування файлів і даних.\n",
    "\n",
    "- Метод `compress(data: bytes)` приймає байтові дані та виконує стиснення за допомогою словника, який будується динамічно. Алгоритм зчитує послідовності байтів, які вже зустрічалися, і замінює їх індексами в словнику разом з наступним байтом. Повертається список пар `(індекс, байт)`.\n",
    "\n",
    "- Метод `decompress(pairs: list[tuple[int, bytes]])` приймає список пар `(індекс, байт)` та динамічно будує словник для відновлення оригінальних даних. Починаючи з пустого словника, він реконструює кожен фрагмент і об’єднує їх у повні дані. Повертає розпаковані байти.\n",
    "\n",
    "- Метод `compress_file(input_path: str, output_path: str)` зчитує файл у байтовому форматі, стискає вміст за допомогою `compress`, і зберігає стиснені пари у бінарному файлі. Індекси зберігаються як 4 байти, після чого йде сам байт.\n",
    "\n",
    "- Метод `decompress_file(input_path: str, output_path: str)` читає бінарний файл, інтерпретує його як послідовність стиснених пар `(індекс, байт)` і відновлює початкові байти за допомогою `decompress`. Відновлені дані записуються у вивідний файл.\n",
    "\n",
    "Інші використані структури:\n",
    "\n",
    "- `dict` — використовується як словник для збереження повторних послідовностей під час стиснення та розпакування.\n",
    "\n",
    "- `bytearray` — застосовується для ефективного зберігання результату під час розпакування.\n",
    "\n",
    "- `int.to_bytes` і `int.from_bytes` — вбудовані методи Python для перетворення цілих чисел у байти та навпаки, що дозволяє працювати з файлами без потреби в зовнішніх бібліотеках.\n",
    "\n",
    "Цей підхід дозволяє стискати будь-які типи файлів, оскільки працює з байтами, а не рядками.\n"
   ]
  },
  {
   "cell_type": "markdown",
   "id": "8303bbfe",
   "metadata": {},
   "source": [
    "#### Приклад - \"Місто\", формат txt"
   ]
  },
  {
   "cell_type": "markdown",
   "id": "1d69bd28",
   "metadata": {},
   "source": [
    "початковий розмір файлу"
   ]
  },
  {
   "cell_type": "code",
   "execution_count": 1,
   "id": "28fdfad5",
   "metadata": {},
   "outputs": [
    {
     "data": {
      "text/plain": [
       "911282"
      ]
     },
     "execution_count": 1,
     "metadata": {},
     "output_type": "execute_result"
    }
   ],
   "source": [
    "import os\n",
    "\n",
    "misto_size = os.stat('./compression/pidmohylnyy-valerian-petrovych-misto76.txt').st_size\n",
    "misto_size"
   ]
  },
  {
   "cell_type": "markdown",
   "id": "bfb8cb07",
   "metadata": {},
   "source": [
    "вбудований zip-архіватор"
   ]
  },
  {
   "cell_type": "code",
   "execution_count": 2,
   "id": "191aa7dd",
   "metadata": {},
   "outputs": [
    {
     "data": {
      "text/plain": [
       "277752"
      ]
     },
     "execution_count": 2,
     "metadata": {},
     "output_type": "execute_result"
    }
   ],
   "source": [
    "misto_size_built = os.stat('./compression/pidmohylnyy-valerian-petrovych-misto76.txt.zip').st_size\n",
    "misto_size_built"
   ]
  },
  {
   "cell_type": "markdown",
   "id": "f25d28c5",
   "metadata": {},
   "source": [
    "Кодування LZ78"
   ]
  },
  {
   "cell_type": "code",
   "execution_count": 3,
   "id": "7478c460",
   "metadata": {},
   "outputs": [
    {
     "data": {
      "text/plain": [
       "699485"
      ]
     },
     "execution_count": 3,
     "metadata": {},
     "output_type": "execute_result"
    }
   ],
   "source": [
    "misto_size_lz78 = os.stat('./compression/compressed_misto_lz78.bin').st_size\n",
    "misto_size_lz78"
   ]
  },
  {
   "cell_type": "markdown",
   "id": "795860fb",
   "metadata": {},
   "source": [
    "#### Приклад - великий json file"
   ]
  },
  {
   "cell_type": "markdown",
   "id": "1b132208",
   "metadata": {},
   "source": [
    "початковий розмір файлу"
   ]
  },
  {
   "cell_type": "code",
   "execution_count": 4,
   "id": "c34f64ea",
   "metadata": {},
   "outputs": [
    {
     "data": {
      "text/plain": [
       "26141343"
      ]
     },
     "execution_count": 4,
     "metadata": {},
     "output_type": "execute_result"
    }
   ],
   "source": [
    "json_size = os.stat('./compression/large-file.json').st_size\n",
    "json_size"
   ]
  },
  {
   "cell_type": "markdown",
   "id": "70bd677f",
   "metadata": {},
   "source": [
    "вбудований zip-архіватор"
   ]
  },
  {
   "cell_type": "code",
   "execution_count": 5,
   "id": "5b7def7d",
   "metadata": {},
   "outputs": [
    {
     "data": {
      "text/plain": [
       "3845074"
      ]
     },
     "execution_count": 5,
     "metadata": {},
     "output_type": "execute_result"
    }
   ],
   "source": [
    "big_json_size = os.stat('./compression/large-file.json.zip').st_size\n",
    "big_json_size"
   ]
  },
  {
   "cell_type": "markdown",
   "id": "895ffcb4",
   "metadata": {},
   "source": [
    "Кодування LZ78"
   ]
  },
  {
   "cell_type": "code",
   "execution_count": 6,
   "id": "64b22ee6",
   "metadata": {},
   "outputs": [
    {
     "data": {
      "text/plain": [
       "10461282"
      ]
     },
     "execution_count": 6,
     "metadata": {},
     "output_type": "execute_result"
    }
   ],
   "source": [
    "big_json_lz78_size = os.stat('./compression/compressed_json_lz78.bin').st_size\n",
    "big_json_lz78_size"
   ]
  },
  {
   "cell_type": "markdown",
   "id": "964a9a90",
   "metadata": {},
   "source": [
    "#### Приклад - csv файл з користувачами на 100000 рядків"
   ]
  },
  {
   "cell_type": "markdown",
   "id": "b6e4e3a2",
   "metadata": {},
   "source": [
    "початковий розмір файлу"
   ]
  },
  {
   "cell_type": "code",
   "execution_count": 7,
   "id": "1efa379c",
   "metadata": {},
   "outputs": [
    {
     "data": {
      "text/plain": [
       "17317579"
      ]
     },
     "execution_count": 7,
     "metadata": {},
     "output_type": "execute_result"
    }
   ],
   "source": [
    "csv_size = os.stat('./compression/customers-100000.csv').st_size\n",
    "csv_size"
   ]
  },
  {
   "cell_type": "markdown",
   "id": "e1e5b886",
   "metadata": {},
   "source": [
    "вбудований zip-архіватор"
   ]
  },
  {
   "cell_type": "code",
   "execution_count": 8,
   "id": "e3bf4c74",
   "metadata": {},
   "outputs": [
    {
     "data": {
      "text/plain": [
       "8197707"
      ]
     },
     "execution_count": 8,
     "metadata": {},
     "output_type": "execute_result"
    }
   ],
   "source": [
    "customers_100000_size = os.stat('./compression/customers-100000.csv.zip').st_size\n",
    "customers_100000_size"
   ]
  },
  {
   "cell_type": "markdown",
   "id": "c3c3a477",
   "metadata": {},
   "source": [
    "Кодування LZ78"
   ]
  },
  {
   "cell_type": "code",
   "execution_count": 9,
   "id": "4c95a61d",
   "metadata": {},
   "outputs": [
    {
     "data": {
      "text/plain": [
       "14171645"
      ]
     },
     "execution_count": 9,
     "metadata": {},
     "output_type": "execute_result"
    }
   ],
   "source": [
    "customers_100000_lz78_size = os.stat('./compression/compressed_customers_100000_lz78.bin').st_size\n",
    "customers_100000_lz78_size"
   ]
  },
  {
   "cell_type": "markdown",
   "id": "1078f258",
   "metadata": {},
   "source": [
    "### LZW"
   ]
  },
  {
   "cell_type": "markdown",
   "id": "c154f87b",
   "metadata": {},
   "source": [
    "Алгоритм LZW реалізований як клас `LZWCompressor`, що включає методи для стиснення та розпакування файлів.\n",
    "\n",
    "- Метод `compress` приймає байтові дані та виконує стиснення за допомогою динамічного словника, який будується під час обробки даних.\n",
    "\n",
    "- Метод `decompress` приймає стиснені дані у вигляді списку чисел і відновлює початкові байти, використовуючи словник, який також динамічно будується.\n",
    "\n",
    "- Метод `compress_file` дозволяє стискати файли, зчитуючи їх у байтовому форматі, стискаючи дані та зберігаючи результат у двійковому форматі.\n",
    "\n",
    "- Метод `decompress_file` дозволяє розпаковувати файли, зчитуючи стиснені дані у двійковому форматі, відновлюючи початкові дані та зберігаючи їх у файл.\n",
    "\n",
    "Інші використані структури:\n",
    "\n",
    "- `dict` - для зберігання словника під час стиснення та розпакування.\n",
    "\n",
    "- `bytearray` - для ефективного зберігання результату розпакування.\n"
   ]
  },
  {
   "cell_type": "markdown",
   "id": "0f9a6cb5",
   "metadata": {},
   "source": [
    "#### Приклад - \"Місто\", формат txt"
   ]
  },
  {
   "cell_type": "code",
   "execution_count": 1,
   "id": "50eb38e7",
   "metadata": {},
   "outputs": [
    {
     "data": {
      "text/plain": [
       "911282"
      ]
     },
     "execution_count": 1,
     "metadata": {},
     "output_type": "execute_result"
    }
   ],
   "source": [
    "import os\n",
    "\n",
    "misto_size = os.stat('./compression/pidmohylnyy-valerian-petrovych-misto76.txt').st_size\n",
    "misto_size"
   ]
  },
  {
   "cell_type": "markdown",
   "id": "b21fb250",
   "metadata": {},
   "source": [
    "Місто стиснене за допомогою WinRAR в формат zip"
   ]
  },
  {
   "cell_type": "code",
   "execution_count": 4,
   "id": "aa5b06e7",
   "metadata": {},
   "outputs": [
    {
     "data": {
      "text/plain": [
       "273708"
      ]
     },
     "execution_count": 4,
     "metadata": {},
     "output_type": "execute_result"
    }
   ],
   "source": [
    "misto_size_zip = os.stat('./compression/pidmohylnyy-valerian-petrovych-misto76.zip').st_size\n",
    "misto_size_zip"
   ]
  },
  {
   "cell_type": "markdown",
   "id": "daabbac8",
   "metadata": {},
   "source": [
    "Місто стиснене алгоритмом LZW"
   ]
  },
  {
   "cell_type": "code",
   "execution_count": 5,
   "id": "f97e3699",
   "metadata": {},
   "outputs": [
    {
     "data": {
      "text/plain": [
       "535340"
      ]
     },
     "execution_count": 5,
     "metadata": {},
     "output_type": "execute_result"
    }
   ],
   "source": [
    "misto_size_lzw = os.stat('./compression/pidmohylnyy-valerian-petrovych-misto76.bin').st_size\n",
    "misto_size_lzw"
   ]
  },
  {
   "cell_type": "markdown",
   "id": "7e49bb03",
   "metadata": {},
   "source": [
    "Насправді, файл можна ще більше стиснути, якщо записувати числа в 3 байти."
   ]
  },
  {
   "cell_type": "code",
   "execution_count": 6,
   "id": "713d3e01",
   "metadata": {},
   "outputs": [
    {
     "data": {
      "text/plain": [
       "401505"
      ]
     },
     "execution_count": 6,
     "metadata": {},
     "output_type": "execute_result"
    }
   ],
   "source": [
    "misto_size_lzw_3_bytes = os.stat('./compression/pidmohylnyy-valerian-petrovych-misto76.bin').st_size\n",
    "misto_size_lzw_3_bytes"
   ]
  },
  {
   "cell_type": "markdown",
   "id": "79bb3ad3",
   "metadata": {},
   "source": [
    "але це буде працювати лише для малих файлів, а 4 байти більш універсальне рішення, яке підходить для більшості файлів за невелику ціну - воно гірше стискає маленькі файли"
   ]
  },
  {
   "cell_type": "markdown",
   "id": "07e04aa4",
   "metadata": {},
   "source": [
    "#### Приклад - великий json file"
   ]
  },
  {
   "cell_type": "markdown",
   "id": "56322136",
   "metadata": {},
   "source": [
    "Початковий розмір файлу"
   ]
  },
  {
   "cell_type": "code",
   "execution_count": 7,
   "id": "9a52d7e2",
   "metadata": {},
   "outputs": [
    {
     "data": {
      "text/plain": [
       "26141343"
      ]
     },
     "execution_count": 7,
     "metadata": {},
     "output_type": "execute_result"
    }
   ],
   "source": [
    "json_size = os.stat('./compression/large-file.json').st_size\n",
    "json_size"
   ]
  },
  {
   "cell_type": "markdown",
   "id": "f7cd0b15",
   "metadata": {},
   "source": [
    "WinRAR zip"
   ]
  },
  {
   "cell_type": "code",
   "execution_count": 8,
   "id": "2e2686a3",
   "metadata": {},
   "outputs": [
    {
     "data": {
      "text/plain": [
       "3772708"
      ]
     },
     "execution_count": 8,
     "metadata": {},
     "output_type": "execute_result"
    }
   ],
   "source": [
    "json_zip = os.stat('./compression/large-file.zip').st_size\n",
    "json_zip"
   ]
  },
  {
   "cell_type": "markdown",
   "id": "a11949c5",
   "metadata": {},
   "source": [
    "LZW"
   ]
  },
  {
   "cell_type": "code",
   "execution_count": 9,
   "id": "1d6254cf",
   "metadata": {},
   "outputs": [
    {
     "data": {
      "text/plain": [
       "7906656"
      ]
     },
     "execution_count": 9,
     "metadata": {},
     "output_type": "execute_result"
    }
   ],
   "source": [
    "json_lzw = os.stat('./compression/large-file.bin').st_size\n",
    "json_lzw"
   ]
  },
  {
   "cell_type": "markdown",
   "id": "367b8f84",
   "metadata": {},
   "source": [
    "#### Приклад - csv файл з користувачами на 100000 рядків"
   ]
  },
  {
   "cell_type": "markdown",
   "id": "f0840fdb",
   "metadata": {},
   "source": [
    "Початковий розмір файлу"
   ]
  },
  {
   "cell_type": "code",
   "execution_count": 10,
   "id": "c75c63ab",
   "metadata": {},
   "outputs": [
    {
     "data": {
      "text/plain": [
       "17317579"
      ]
     },
     "execution_count": 10,
     "metadata": {},
     "output_type": "execute_result"
    }
   ],
   "source": [
    "csv_size = os.stat('./compression/customers-100000.csv').st_size\n",
    "csv_size"
   ]
  },
  {
   "cell_type": "markdown",
   "id": "5d345fd8",
   "metadata": {},
   "source": [
    "WinRAR zip"
   ]
  },
  {
   "cell_type": "code",
   "execution_count": 11,
   "id": "595867f0",
   "metadata": {},
   "outputs": [
    {
     "data": {
      "text/plain": [
       "8145737"
      ]
     },
     "execution_count": 11,
     "metadata": {},
     "output_type": "execute_result"
    }
   ],
   "source": [
    "csv_zip = os.stat('./compression/customers-100000.zip').st_size\n",
    "csv_zip"
   ]
  },
  {
   "cell_type": "markdown",
   "id": "f38633e4",
   "metadata": {},
   "source": [
    "LZW"
   ]
  },
  {
   "cell_type": "code",
   "execution_count": 14,
   "id": "cba1cf77",
   "metadata": {},
   "outputs": [
    {
     "data": {
      "text/plain": [
       "10838512"
      ]
     },
     "execution_count": 14,
     "metadata": {},
     "output_type": "execute_result"
    }
   ],
   "source": [
    "csv_lzw = os.stat('./compression/customers-100000.bin').st_size\n",
    "csv_lzw"
   ]
  },
  {
   "cell_type": "markdown",
   "id": "1cbb9a52",
   "metadata": {},
   "source": [
    "### RLE"
   ]
  },
  {
   "cell_type": "markdown",
   "id": "e7a66e00",
   "metadata": {},
   "source": [
    "## Опис алгоритму RLE\n",
    "\n",
    "Алгоритм RLE реалізований як клас `RLECompressor`, що включає методи для стиснення та розпакування файлів і байтових даних.\n",
    "\n",
    "- Метод `compress(data: bytes)` приймає послідовність байтів і стискає повторювані символи. Алгоритм знаходить серії однакових байтів та замінює їх парою `(count, byte)`. Наприклад, `AAAA` → `(4, A)`. Повертає список пар `(count: int, byte: bytes)`.\n",
    "\n",
    "- Метод `decompress(pairs: list[tuple[int, bytes]])` приймає список пар `(count, byte)` та відновлює оригінальну послідовність байтів, повторюючи кожен байт `count` разів. Повертає розпаковані байти.\n",
    "\n",
    "- Метод `compress_file(input_path: str, output_path: str)` читає вхідний файл у байтовому режимі, стискає вміст за допомогою `compress`, і записує у вихідний `.bin` файл. Кожна пара `(count, byte)` записується як: 1 байт для кількості (max 255) + 1 байт значення.\n",
    "\n",
    "- Метод `decompress_file(input_path: str, output_path: str)` читає стиснений файл у вигляді послідовності пар `(count, byte)` і відновлює повні байти. Результат записується у файл в оригінальному форматі.\n",
    "\n",
    "### Інші використані структури:\n",
    "\n",
    "- `bytearray` — використовується для поступового зберігання результату у пам’яті при декомпресії.\n",
    "\n",
    "- `int.to_bytes` і `int.from_bytes` — використовуються для кодування числових значень у байти (і навпаки), що забезпечує сумісність із будь-яким типом файлу.\n",
    "\n",
    "> **Примітка:** Через свою простоту, RLE ефективно стискає лише дані з великою кількістю повторюваних байтів (наприклад, монохромні зображення або послідовності з нулями). У випадках із складними, неповторюваними даними, алгоритм може навіть збільшити розмір файлу."
   ]
  },
  {
   "cell_type": "markdown",
   "id": "ebda1a53",
   "metadata": {},
   "source": [
    "#### Приклад стиску зображення, формату bmp"
   ]
  },
  {
   "cell_type": "markdown",
   "id": "3185a8f0",
   "metadata": {},
   "source": [
    "початковий розмір файлу"
   ]
  },
  {
   "cell_type": "code",
   "execution_count": 2,
   "id": "1621b8be",
   "metadata": {},
   "outputs": [
    {
     "data": {
      "text/plain": [
       "75202"
      ]
     },
     "execution_count": 2,
     "metadata": {},
     "output_type": "execute_result"
    }
   ],
   "source": [
    "import os\n",
    "\n",
    "bmp_size = os.stat('./compression/image1.bmp').st_size\n",
    "bmp_size"
   ]
  },
  {
   "cell_type": "markdown",
   "id": "48a4036a",
   "metadata": {},
   "source": [
    "вбудований zip-архіватор"
   ]
  },
  {
   "cell_type": "code",
   "execution_count": 3,
   "id": "beb2d90f",
   "metadata": {},
   "outputs": [
    {
     "data": {
      "text/plain": [
       "8801"
      ]
     },
     "execution_count": 3,
     "metadata": {},
     "output_type": "execute_result"
    }
   ],
   "source": [
    "bmp_size_built = os.stat('./compression/image1.bmp.zip').st_size\n",
    "bmp_size_built"
   ]
  },
  {
   "cell_type": "markdown",
   "id": "c6c2e509",
   "metadata": {},
   "source": [
    "Кодування RLE"
   ]
  },
  {
   "cell_type": "code",
   "execution_count": 4,
   "id": "8899d911",
   "metadata": {},
   "outputs": [
    {
     "data": {
      "text/plain": [
       "46810"
      ]
     },
     "execution_count": 4,
     "metadata": {},
     "output_type": "execute_result"
    }
   ],
   "source": [
    "bmp_size_rle = os.stat('./compression/compressed_image1_rle.bin').st_size\n",
    "bmp_size_rle"
   ]
  }
 ],
 "metadata": {
  "kernelspec": {
   "display_name": "Python 3",
   "language": "python",
   "name": "python3"
  },
  "language_info": {
   "codemirror_mode": {
    "name": "ipython",
    "version": 3
   },
   "file_extension": ".py",
   "mimetype": "text/x-python",
   "name": "python",
   "nbconvert_exporter": "python",
   "pygments_lexer": "ipython3",
   "version": "3.12.9"
  }
 },
 "nbformat": 4,
 "nbformat_minor": 5
}
