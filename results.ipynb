{
 "cells": [
  {
   "cell_type": "markdown",
   "id": "27a8d616",
   "metadata": {},
   "source": [
    "### Проміжні результати роботи над комп'ютерним проєктом"
   ]
  },
  {
   "cell_type": "markdown",
   "id": "6f2b87a6",
   "metadata": {},
   "source": [
    "Виконала команда 12: Оксана Москв'як, Андрій Кульбаба, Олег Гуцуляк, Олександр Стаднік."
   ]
  },
  {
   "cell_type": "markdown",
   "id": "a035c77c",
   "metadata": {},
   "source": [
    "### Код Хаффмана (Huffman Coding)"
   ]
  },
  {
   "cell_type": "markdown",
   "id": "c5ad6ebd",
   "metadata": {},
   "source": [
    "Кодування Хафммана реалізоване за допомогою структури дерева Хаффмана як основи.\n",
    "\n",
    "- створено клас об'єкта вершини дерева \n",
    "- створено рекурсивну функцію, яка генерує коди для кожного знаку\n",
    "- створено функцію побудови дерева через об'єднання двох вершин з мінімальними значеннями в 1\n",
    "- функція encoding - закодовує файл, наданий нам використовуючи при цьому mmap для роботи з файлами(для збереження пам'яті та підтримки різних форматів), будує дерево, словник значень, генерує коди для знаків, зберігає словник(json) знаків, кількість істиної інформації, початкове розширення файлу для декодування.\n",
    "- функція decoding - розкодовує закодований нами файл відповідно до словника та початкового розширення.\n",
    "\n",
    "Інші використані структури:\n",
    "- Черга(deque) - для видалення переглянутого \"декодованого\" знаку\n",
    "- defaultdict - у створенні словника, який зберігає кількість використання певного знаку\n",
    "- bitarray - для збереження результату кодування\n",
    "- heapq - використовується як структура min-heap - повне бінарне дерево, корінь якого має найменше значення серед усіх його нащадків, це має виконуватись для лівого і правого піддерев, потрібна щоб об'єднати дві вершини мінімального значення в 1 при побудові."
   ]
  },
  {
   "cell_type": "markdown",
   "id": "84815d5d",
   "metadata": {},
   "source": [
    "#### Приклад - \"Місто\", формат txt"
   ]
  },
  {
   "cell_type": "markdown",
   "id": "e6b90fb9",
   "metadata": {},
   "source": [
    "початковий розмір файлу"
   ]
  },
  {
   "cell_type": "code",
   "execution_count": 1,
   "id": "e534639a",
   "metadata": {},
   "outputs": [
    {
     "data": {
      "text/plain": [
       "911282"
      ]
     },
     "execution_count": 1,
     "metadata": {},
     "output_type": "execute_result"
    }
   ],
   "source": [
    "import os\n",
    "\n",
    "misto_size = os.stat('./compression/pidmohylnyy-valerian-petrovych-misto76.txt').st_size\n",
    "misto_size"
   ]
  },
  {
   "cell_type": "markdown",
   "id": "6e4fe2b7",
   "metadata": {},
   "source": [
    "вбудований zip-архіватор"
   ]
  },
  {
   "cell_type": "code",
   "execution_count": 2,
   "id": "2f16bc93",
   "metadata": {},
   "outputs": [
    {
     "data": {
      "text/plain": [
       "277784"
      ]
     },
     "execution_count": 2,
     "metadata": {},
     "output_type": "execute_result"
    }
   ],
   "source": [
    "misto_size_built = os.stat('./compression/pidmohylnyy-valerian-petrovych-misto76.txt.zip').st_size\n",
    "misto_size_built"
   ]
  },
  {
   "cell_type": "markdown",
   "id": "fdaa1010",
   "metadata": {},
   "source": [
    "Кодування Гаффмана"
   ]
  },
  {
   "cell_type": "code",
   "execution_count": 4,
   "id": "e959921c",
   "metadata": {},
   "outputs": [
    {
     "data": {
      "text/plain": [
       "304038"
      ]
     },
     "execution_count": 4,
     "metadata": {},
     "output_type": "execute_result"
    }
   ],
   "source": [
    "misto_size_huffman = os.stat('./compressed_misto_huffman.bin').st_size\n",
    "misto_size_huffman"
   ]
  },
  {
   "cell_type": "markdown",
   "id": "2ab0453a",
   "metadata": {},
   "source": [
    "#### Приклад - великий json file"
   ]
  },
  {
   "cell_type": "markdown",
   "id": "83a742fe",
   "metadata": {},
   "source": [
    "початковий розмір файлу"
   ]
  },
  {
   "cell_type": "code",
   "execution_count": 6,
   "id": "2db3adee",
   "metadata": {},
   "outputs": [
    {
     "data": {
      "text/plain": [
       "26141343"
      ]
     },
     "execution_count": 6,
     "metadata": {},
     "output_type": "execute_result"
    }
   ],
   "source": [
    "json_size = os.stat('./compression/large-file.json').st_size\n",
    "json_size"
   ]
  },
  {
   "cell_type": "markdown",
   "id": "6fc0d86c",
   "metadata": {},
   "source": [
    "вбудований zip-архіватор"
   ]
  },
  {
   "cell_type": "code",
   "execution_count": 7,
   "id": "2d0db304",
   "metadata": {},
   "outputs": [
    {
     "data": {
      "text/plain": [
       "3845106"
      ]
     },
     "execution_count": 7,
     "metadata": {},
     "output_type": "execute_result"
    }
   ],
   "source": [
    "big_json_size = os.stat('./compression/large-file.json.zip').st_size\n",
    "big_json_size"
   ]
  },
  {
   "cell_type": "markdown",
   "id": "eb008c17",
   "metadata": {},
   "source": [
    "Кодування Гаффмана"
   ]
  },
  {
   "cell_type": "code",
   "execution_count": 9,
   "id": "260192eb",
   "metadata": {},
   "outputs": [
    {
     "data": {
      "text/plain": [
       "17012930"
      ]
     },
     "execution_count": 9,
     "metadata": {},
     "output_type": "execute_result"
    }
   ],
   "source": [
    "big_json_huffman_size = os.stat('./compressed_json_huffman.bin').st_size\n",
    "big_json_huffman_size"
   ]
  },
  {
   "cell_type": "markdown",
   "id": "2b0449cd",
   "metadata": {},
   "source": [
    "#### Приклад - csv файл з користувачами на 100000 рядків"
   ]
  },
  {
   "cell_type": "markdown",
   "id": "e7370c14",
   "metadata": {},
   "source": [
    "початковий розмір файлу"
   ]
  },
  {
   "cell_type": "code",
   "execution_count": 10,
   "id": "d0d6e4e1",
   "metadata": {},
   "outputs": [
    {
     "data": {
      "text/plain": [
       "17317579"
      ]
     },
     "execution_count": 10,
     "metadata": {},
     "output_type": "execute_result"
    }
   ],
   "source": [
    "csv_size = os.stat('./compression/customers-100000.csv').st_size\n",
    "csv_size"
   ]
  },
  {
   "cell_type": "markdown",
   "id": "2f2ec1e9",
   "metadata": {},
   "source": [
    "вбудований zip-архіватор"
   ]
  },
  {
   "cell_type": "code",
   "execution_count": 11,
   "id": "0aa68e56",
   "metadata": {},
   "outputs": [
    {
     "data": {
      "text/plain": [
       "8197738"
      ]
     },
     "execution_count": 11,
     "metadata": {},
     "output_type": "execute_result"
    }
   ],
   "source": [
    "customers_100000_size = os.stat('./compression/customers-100000.csv.zip').st_size\n",
    "customers_100000_size"
   ]
  },
  {
   "cell_type": "markdown",
   "id": "fb48fc23",
   "metadata": {},
   "source": [
    "Кодування Гаффмана"
   ]
  },
  {
   "cell_type": "code",
   "execution_count": 13,
   "id": "45efeca8",
   "metadata": {},
   "outputs": [
    {
     "data": {
      "text/plain": [
       "11956603"
      ]
     },
     "execution_count": 13,
     "metadata": {},
     "output_type": "execute_result"
    }
   ],
   "source": [
    "customers_100000_huffman_size = os.stat('compressed_customers_100000_huffman.bin').st_size\n",
    "customers_100000_huffman_size"
   ]
  },
  {
   "cell_type": "markdown",
   "id": "a48b0bf6",
   "metadata": {},
   "source": [
    "### LZ77"
   ]
  },
  {
   "cell_type": "markdown",
   "id": "fdd244c8",
   "metadata": {},
   "source": [
    "### LZ78"
   ]
  },
  {
   "cell_type": "markdown",
   "id": "1078f258",
   "metadata": {},
   "source": [
    "### LZW"
   ]
  }
 ],
 "metadata": {
  "kernelspec": {
   "display_name": ".venv",
   "language": "python",
   "name": "python3"
  },
  "language_info": {
   "codemirror_mode": {
    "name": "ipython",
    "version": 3
   },
   "file_extension": ".py",
   "mimetype": "text/x-python",
   "name": "python",
   "nbconvert_exporter": "python",
   "pygments_lexer": "ipython3",
   "version": "3.13.2"
  }
 },
 "nbformat": 4,
 "nbformat_minor": 5
}
